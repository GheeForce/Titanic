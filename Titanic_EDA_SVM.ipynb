{
 "cells": [
  {
   "cell_type": "markdown",
   "metadata": {},
   "source": [
    "# Titanic Dataset\n",
    "\n",
    "The sinking of the Titanic is one of the most infamous shipwrecks in history. \n",
    "\n",
    "On April 15, 1912, during her maiden voyage, the widely considered “unsinkable” RMS Titanic sank after colliding with an iceberg. Unfortunately, there weren’t enough lifeboats for everyone onboard, resulting in the death of 1502 out of 2224 passengers and crew.\n",
    "\n",
    "### Data\n",
    "\n",
    "Titanic DataSet obtained from Kaggle: https://www.kaggle.com/c/titanic\n",
    "\n",
    "### Goal\n",
    "\n",
    "Build a predictive model that answers the question: “what sorts of people were more likely to survive?” using passenger data (ie name, age, gender, socio-economic class, etc)."
   ]
  },
  {
   "cell_type": "markdown",
   "metadata": {},
   "source": [
    "## 1.0 Setup"
   ]
  },
  {
   "cell_type": "code",
   "execution_count": 3,
   "metadata": {},
   "outputs": [],
   "source": [
    "import pandas as pd\n",
    "import numpy as np\n",
    "import matplotlib.pyplot as plt\n",
    "import seaborn as sns"
   ]
  },
  {
   "cell_type": "code",
   "execution_count": 181,
   "metadata": {},
   "outputs": [],
   "source": [
    "df = pd.read_csv('titanic_train.csv')\n",
    "df_test = pd.read_csv('titanic_test.csv')"
   ]
  },
  {
   "cell_type": "code",
   "execution_count": 111,
   "metadata": {},
   "outputs": [
    {
     "data": {
      "text/html": [
       "<div>\n",
       "<style scoped>\n",
       "    .dataframe tbody tr th:only-of-type {\n",
       "        vertical-align: middle;\n",
       "    }\n",
       "\n",
       "    .dataframe tbody tr th {\n",
       "        vertical-align: top;\n",
       "    }\n",
       "\n",
       "    .dataframe thead th {\n",
       "        text-align: right;\n",
       "    }\n",
       "</style>\n",
       "<table border=\"1\" class=\"dataframe\">\n",
       "  <thead>\n",
       "    <tr style=\"text-align: right;\">\n",
       "      <th></th>\n",
       "      <th>PassengerId</th>\n",
       "      <th>Survived</th>\n",
       "      <th>Pclass</th>\n",
       "      <th>Name</th>\n",
       "      <th>Sex</th>\n",
       "      <th>Age</th>\n",
       "      <th>SibSp</th>\n",
       "      <th>Parch</th>\n",
       "      <th>Ticket</th>\n",
       "      <th>Fare</th>\n",
       "      <th>Cabin</th>\n",
       "      <th>Embarked</th>\n",
       "    </tr>\n",
       "  </thead>\n",
       "  <tbody>\n",
       "    <tr>\n",
       "      <th>0</th>\n",
       "      <td>1</td>\n",
       "      <td>0</td>\n",
       "      <td>3</td>\n",
       "      <td>Braund, Mr. Owen Harris</td>\n",
       "      <td>male</td>\n",
       "      <td>22.0</td>\n",
       "      <td>1</td>\n",
       "      <td>0</td>\n",
       "      <td>A/5 21171</td>\n",
       "      <td>7.2500</td>\n",
       "      <td>NaN</td>\n",
       "      <td>S</td>\n",
       "    </tr>\n",
       "    <tr>\n",
       "      <th>1</th>\n",
       "      <td>2</td>\n",
       "      <td>1</td>\n",
       "      <td>1</td>\n",
       "      <td>Cumings, Mrs. John Bradley (Florence Briggs Th...</td>\n",
       "      <td>female</td>\n",
       "      <td>38.0</td>\n",
       "      <td>1</td>\n",
       "      <td>0</td>\n",
       "      <td>PC 17599</td>\n",
       "      <td>71.2833</td>\n",
       "      <td>C85</td>\n",
       "      <td>C</td>\n",
       "    </tr>\n",
       "    <tr>\n",
       "      <th>2</th>\n",
       "      <td>3</td>\n",
       "      <td>1</td>\n",
       "      <td>3</td>\n",
       "      <td>Heikkinen, Miss. Laina</td>\n",
       "      <td>female</td>\n",
       "      <td>26.0</td>\n",
       "      <td>0</td>\n",
       "      <td>0</td>\n",
       "      <td>STON/O2. 3101282</td>\n",
       "      <td>7.9250</td>\n",
       "      <td>NaN</td>\n",
       "      <td>S</td>\n",
       "    </tr>\n",
       "  </tbody>\n",
       "</table>\n",
       "</div>"
      ],
      "text/plain": [
       "   PassengerId  Survived  Pclass  \\\n",
       "0            1         0       3   \n",
       "1            2         1       1   \n",
       "2            3         1       3   \n",
       "\n",
       "                                                Name     Sex   Age  SibSp  \\\n",
       "0                            Braund, Mr. Owen Harris    male  22.0      1   \n",
       "1  Cumings, Mrs. John Bradley (Florence Briggs Th...  female  38.0      1   \n",
       "2                             Heikkinen, Miss. Laina  female  26.0      0   \n",
       "\n",
       "   Parch            Ticket     Fare Cabin Embarked  \n",
       "0      0         A/5 21171   7.2500   NaN        S  \n",
       "1      0          PC 17599  71.2833   C85        C  \n",
       "2      0  STON/O2. 3101282   7.9250   NaN        S  "
      ]
     },
     "execution_count": 111,
     "metadata": {},
     "output_type": "execute_result"
    }
   ],
   "source": [
    "df.head(3)"
   ]
  },
  {
   "cell_type": "markdown",
   "metadata": {},
   "source": [
    "## 2.0 Exploratory Data Analysis"
   ]
  },
  {
   "cell_type": "code",
   "execution_count": 17,
   "metadata": {},
   "outputs": [
    {
     "data": {
      "text/html": [
       "<div>\n",
       "<style scoped>\n",
       "    .dataframe tbody tr th:only-of-type {\n",
       "        vertical-align: middle;\n",
       "    }\n",
       "\n",
       "    .dataframe tbody tr th {\n",
       "        vertical-align: top;\n",
       "    }\n",
       "\n",
       "    .dataframe thead th {\n",
       "        text-align: right;\n",
       "    }\n",
       "</style>\n",
       "<table border=\"1\" class=\"dataframe\">\n",
       "  <thead>\n",
       "    <tr style=\"text-align: right;\">\n",
       "      <th></th>\n",
       "      <th>PassengerId</th>\n",
       "      <th>Survived</th>\n",
       "      <th>Pclass</th>\n",
       "      <th>Age</th>\n",
       "      <th>SibSp</th>\n",
       "      <th>Parch</th>\n",
       "      <th>Fare</th>\n",
       "    </tr>\n",
       "  </thead>\n",
       "  <tbody>\n",
       "    <tr>\n",
       "      <th>count</th>\n",
       "      <td>891.000000</td>\n",
       "      <td>891.000000</td>\n",
       "      <td>891.000000</td>\n",
       "      <td>714.000000</td>\n",
       "      <td>891.000000</td>\n",
       "      <td>891.000000</td>\n",
       "      <td>891.000000</td>\n",
       "    </tr>\n",
       "    <tr>\n",
       "      <th>mean</th>\n",
       "      <td>446.000000</td>\n",
       "      <td>0.383838</td>\n",
       "      <td>2.308642</td>\n",
       "      <td>29.699118</td>\n",
       "      <td>0.523008</td>\n",
       "      <td>0.381594</td>\n",
       "      <td>32.204208</td>\n",
       "    </tr>\n",
       "    <tr>\n",
       "      <th>std</th>\n",
       "      <td>257.353842</td>\n",
       "      <td>0.486592</td>\n",
       "      <td>0.836071</td>\n",
       "      <td>14.526497</td>\n",
       "      <td>1.102743</td>\n",
       "      <td>0.806057</td>\n",
       "      <td>49.693429</td>\n",
       "    </tr>\n",
       "    <tr>\n",
       "      <th>min</th>\n",
       "      <td>1.000000</td>\n",
       "      <td>0.000000</td>\n",
       "      <td>1.000000</td>\n",
       "      <td>0.420000</td>\n",
       "      <td>0.000000</td>\n",
       "      <td>0.000000</td>\n",
       "      <td>0.000000</td>\n",
       "    </tr>\n",
       "    <tr>\n",
       "      <th>25%</th>\n",
       "      <td>223.500000</td>\n",
       "      <td>0.000000</td>\n",
       "      <td>2.000000</td>\n",
       "      <td>20.125000</td>\n",
       "      <td>0.000000</td>\n",
       "      <td>0.000000</td>\n",
       "      <td>7.910400</td>\n",
       "    </tr>\n",
       "    <tr>\n",
       "      <th>50%</th>\n",
       "      <td>446.000000</td>\n",
       "      <td>0.000000</td>\n",
       "      <td>3.000000</td>\n",
       "      <td>28.000000</td>\n",
       "      <td>0.000000</td>\n",
       "      <td>0.000000</td>\n",
       "      <td>14.454200</td>\n",
       "    </tr>\n",
       "    <tr>\n",
       "      <th>75%</th>\n",
       "      <td>668.500000</td>\n",
       "      <td>1.000000</td>\n",
       "      <td>3.000000</td>\n",
       "      <td>38.000000</td>\n",
       "      <td>1.000000</td>\n",
       "      <td>0.000000</td>\n",
       "      <td>31.000000</td>\n",
       "    </tr>\n",
       "    <tr>\n",
       "      <th>max</th>\n",
       "      <td>891.000000</td>\n",
       "      <td>1.000000</td>\n",
       "      <td>3.000000</td>\n",
       "      <td>80.000000</td>\n",
       "      <td>8.000000</td>\n",
       "      <td>6.000000</td>\n",
       "      <td>512.329200</td>\n",
       "    </tr>\n",
       "  </tbody>\n",
       "</table>\n",
       "</div>"
      ],
      "text/plain": [
       "       PassengerId    Survived      Pclass         Age       SibSp  \\\n",
       "count   891.000000  891.000000  891.000000  714.000000  891.000000   \n",
       "mean    446.000000    0.383838    2.308642   29.699118    0.523008   \n",
       "std     257.353842    0.486592    0.836071   14.526497    1.102743   \n",
       "min       1.000000    0.000000    1.000000    0.420000    0.000000   \n",
       "25%     223.500000    0.000000    2.000000   20.125000    0.000000   \n",
       "50%     446.000000    0.000000    3.000000   28.000000    0.000000   \n",
       "75%     668.500000    1.000000    3.000000   38.000000    1.000000   \n",
       "max     891.000000    1.000000    3.000000   80.000000    8.000000   \n",
       "\n",
       "            Parch        Fare  \n",
       "count  891.000000  891.000000  \n",
       "mean     0.381594   32.204208  \n",
       "std      0.806057   49.693429  \n",
       "min      0.000000    0.000000  \n",
       "25%      0.000000    7.910400  \n",
       "50%      0.000000   14.454200  \n",
       "75%      0.000000   31.000000  \n",
       "max      6.000000  512.329200  "
      ]
     },
     "execution_count": 17,
     "metadata": {},
     "output_type": "execute_result"
    }
   ],
   "source": [
    "df.describe()"
   ]
  },
  {
   "cell_type": "code",
   "execution_count": 11,
   "metadata": {},
   "outputs": [
    {
     "name": "stdout",
     "output_type": "stream",
     "text": [
      "<class 'pandas.core.frame.DataFrame'>\n",
      "RangeIndex: 891 entries, 0 to 890\n",
      "Data columns (total 12 columns):\n",
      " #   Column       Non-Null Count  Dtype  \n",
      "---  ------       --------------  -----  \n",
      " 0   PassengerId  891 non-null    int64  \n",
      " 1   Survived     891 non-null    int64  \n",
      " 2   Pclass       891 non-null    int64  \n",
      " 3   Name         891 non-null    object \n",
      " 4   Sex          891 non-null    object \n",
      " 5   Age          714 non-null    float64\n",
      " 6   SibSp        891 non-null    int64  \n",
      " 7   Parch        891 non-null    int64  \n",
      " 8   Ticket       891 non-null    object \n",
      " 9   Fare         891 non-null    float64\n",
      " 10  Cabin        204 non-null    object \n",
      " 11  Embarked     889 non-null    object \n",
      "dtypes: float64(2), int64(5), object(5)\n",
      "memory usage: 83.7+ KB\n"
     ]
    }
   ],
   "source": [
    "df.info()"
   ]
  },
  {
   "cell_type": "code",
   "execution_count": 7,
   "metadata": {},
   "outputs": [
    {
     "data": {
      "text/plain": [
       "<matplotlib.axes._subplots.AxesSubplot at 0x6d3df08>"
      ]
     },
     "execution_count": 7,
     "metadata": {},
     "output_type": "execute_result"
    },
    {
     "data": {
      "image/png": "[encoded data removed]",
      "text/plain": [
       "<Figure size 432x288 with 1 Axes>"
      ]
     },
     "metadata": {},
     "output_type": "display_data"
    }
   ],
   "source": [
    "sns.set_style('whitegrid')\n",
    "\n",
    "# Survived vs Did not Survive\n",
    "sns.countplot(x='Survived', data=df)"
   ]
  },
  {
   "cell_type": "code",
   "execution_count": 14,
   "metadata": {},
   "outputs": [
    {
     "data": {
      "text/plain": [
       "<matplotlib.axes._subplots.AxesSubplot at 0xb3b9108>"
      ]
     },
     "execution_count": 14,
     "metadata": {},
     "output_type": "execute_result"
    },
    {
     "data": {
      "image/png": "[encoded data removed]",
      "text/plain": [
       "<Figure size 432x288 with 1 Axes>"
      ]
     },
     "metadata": {},
     "output_type": "display_data"
    }
   ],
   "source": [
    "# Who survived relative to Sex\n",
    "sns.countplot(x='Survived', hue = \"Sex\", data=df)"
   ]
  },
  {
   "cell_type": "code",
   "execution_count": 16,
   "metadata": {},
   "outputs": [
    {
     "data": {
      "text/plain": [
       "<matplotlib.axes._subplots.AxesSubplot at 0xb483508>"
      ]
     },
     "execution_count": 16,
     "metadata": {},
     "output_type": "execute_result"
    },
    {
     "data": {
      "image/png": "[encoded data removed]",
      "text/plain": [
       "<Figure size 432x288 with 1 Axes>"
      ]
     },
     "metadata": {},
     "output_type": "display_data"
    }
   ],
   "source": [
    "# Who survived based on passenger class?\n",
    "sns.countplot(x='Survived', hue='Pclass', data=df)"
   ]
  },
  {
   "cell_type": "code",
   "execution_count": 17,
   "metadata": {},
   "outputs": [
    {
     "data": {
      "text/plain": [
       "<matplotlib.axes._subplots.AxesSubplot at 0xb4f8688>"
      ]
     },
     "execution_count": 17,
     "metadata": {},
     "output_type": "execute_result"
    },
    {
     "data": {
      "image/png": "[encoded data removed]",
      "text/plain": [
       "<Figure size 432x288 with 1 Axes>"
      ]
     },
     "metadata": {},
     "output_type": "display_data"
    }
   ],
   "source": [
    "# Age distribution on the titanic\n",
    "sns.distplot(df['Age'].dropna(), kde = False, bins=30)\n"
   ]
  },
  {
   "cell_type": "code",
   "execution_count": 18,
   "metadata": {},
   "outputs": [
    {
     "data": {
      "text/plain": [
       "<matplotlib.axes._subplots.AxesSubplot at 0xb601ec8>"
      ]
     },
     "execution_count": 18,
     "metadata": {},
     "output_type": "execute_result"
    },
    {
     "data": {
      "image/png": "[encoded data removed]",
      "text/plain": [
       "<Figure size 432x288 with 1 Axes>"
      ]
     },
     "metadata": {},
     "output_type": "display_data"
    }
   ],
   "source": [
    "# What was the cost of fair distribution\n",
    "df['Fare'].hist(bins=40)"
   ]
  },
  {
   "cell_type": "code",
   "execution_count": 182,
   "metadata": {},
   "outputs": [],
   "source": [
    "#defining a function to determine who is a child (children are less than 16 yo.)\n",
    "def male_female_child(passenger):\n",
    "    #separating the two columns (sex and age) into two objects\n",
    "    sex,age = passenger\n",
    "    #checking if the age is < 16\n",
    "    if age < 16:\n",
    "        #setting the new value as 'child'\n",
    "        return 'child'\n",
    "    else:\n",
    "        #setting the new value as the previous one\n",
    "        return sex"
   ]
  },
  {
   "cell_type": "code",
   "execution_count": 183,
   "metadata": {},
   "outputs": [],
   "source": [
    "#applying the male_female_child method to a new column called person by passing the sex and age columns\n",
    "df['person'] = df[['Sex','Age']].apply(male_female_child,axis=1)\n",
    "df_test['person'] = df_test[['Sex','Age']].apply(male_female_child,axis=1)"
   ]
  },
  {
   "cell_type": "code",
   "execution_count": 23,
   "metadata": {},
   "outputs": [
    {
     "data": {
      "text/plain": [
       "<matplotlib.axes._subplots.AxesSubplot at 0xb7d0748>"
      ]
     },
     "execution_count": 23,
     "metadata": {},
     "output_type": "execute_result"
    },
    {
     "data": {
      "image/png": "[encoded data removed]",
      "text/plain": [
       "<Figure size 432x288 with 1 Axes>"
      ]
     },
     "metadata": {},
     "output_type": "display_data"
    }
   ],
   "source": [
    "# The people in the classes\n",
    "sns.countplot(x='Pclass', hue='person', data=df)"
   ]
  },
  {
   "cell_type": "code",
   "execution_count": 24,
   "metadata": {},
   "outputs": [
    {
     "data": {
      "text/plain": [
       "<matplotlib.axes._subplots.AxesSubplot at 0xb884d48>"
      ]
     },
     "execution_count": 24,
     "metadata": {},
     "output_type": "execute_result"
    },
    {
     "data": {
      "image/png": "[encoded data removed]",
      "text/plain": [
       "<Figure size 432x288 with 1 Axes>"
      ]
     },
     "metadata": {},
     "output_type": "display_data"
    }
   ],
   "source": [
    "# The people in the classes\n",
    "sns.countplot(x='Survived', hue='person', data=df)"
   ]
  },
  {
   "cell_type": "code",
   "execution_count": 25,
   "metadata": {},
   "outputs": [
    {
     "data": {
      "text/plain": [
       "<matplotlib.axes._subplots.AxesSubplot at 0xb8deb08>"
      ]
     },
     "execution_count": 25,
     "metadata": {},
     "output_type": "execute_result"
    },
    {
     "data": {
      "image/png": "[encoded data removed]",
      "text/plain": [
       "<Figure size 432x288 with 1 Axes>"
      ]
     },
     "metadata": {},
     "output_type": "display_data"
    }
   ],
   "source": [
    "# Fare variation with Passenger Class\n",
    "sns.barplot(x='Pclass',y='Fare',data=df)"
   ]
  },
  {
   "cell_type": "code",
   "execution_count": 28,
   "metadata": {},
   "outputs": [
    {
     "data": {
      "text/plain": [
       "<seaborn.axisgrid.FacetGrid at 0xb9dd048>"
      ]
     },
     "execution_count": 28,
     "metadata": {},
     "output_type": "execute_result"
    },
    {
     "data": {
      "image/png": "[encoded data removed]",
      "text/plain": [
       "<Figure size 930.125x216 with 1 Axes>"
      ]
     },
     "metadata": {},
     "output_type": "display_data"
    }
   ],
   "source": [
    "#creating a fig object and defining the data and the hue value\n",
    "fig = sns.FacetGrid(df,hue='Sex',aspect=4)\n",
    "\n",
    "#setting the plot type to a kde plot and the age column as the x axis\n",
    "fig.map(sns.kdeplot,'Age',shade=True)\n",
    "\n",
    "#getting the age of the oldest person in the dataset\n",
    "oldest = df['Age'].max()\n",
    "\n",
    "#setting the x axis limit\n",
    "fig.set(xlim=(0,oldest))\n",
    "\n",
    "#adding a legend to the plot\n",
    "fig.add_legend()"
   ]
  },
  {
   "cell_type": "code",
   "execution_count": 30,
   "metadata": {},
   "outputs": [
    {
     "data": {
      "text/plain": [
       "<seaborn.axisgrid.FacetGrid at 0xba1f9c8>"
      ]
     },
     "execution_count": 30,
     "metadata": {},
     "output_type": "execute_result"
    },
    {
     "data": {
      "image/png": "[encoded data removed]",
      "text/plain": [
       "<Figure size 930.125x216 with 1 Axes>"
      ]
     },
     "metadata": {},
     "output_type": "display_data"
    }
   ],
   "source": [
    "#creating a fig object and defining the data and the hue value\n",
    "fig = sns.FacetGrid(df,hue='person',aspect=4)\n",
    "\n",
    "#setting the plot type to a kde plot and the age column as the x axis\n",
    "fig.map(sns.kdeplot,'Age',shade=True)\n",
    "\n",
    "#getting the age of the oldest person in the dataset\n",
    "oldest = df['Age'].max()\n",
    "\n",
    "#setting the x axis limit\n",
    "fig.set(xlim=(0,oldest))\n",
    "\n",
    "#adding a legend to the plot\n",
    "fig.add_legend()"
   ]
  },
  {
   "cell_type": "code",
   "execution_count": 8,
   "metadata": {},
   "outputs": [
    {
     "data": {
      "text/plain": [
       "<seaborn.axisgrid.FacetGrid at 0x6e54ec8>"
      ]
     },
     "execution_count": 8,
     "metadata": {},
     "output_type": "execute_result"
    },
    {
     "data": {
      "image/png": "[encoded data removed]",
      "text/plain": [
       "<Figure size 905.625x216 with 1 Axes>"
      ]
     },
     "metadata": {},
     "output_type": "display_data"
    }
   ],
   "source": [
    "#creating a fig object and defining the data and the hue value\n",
    "fig = sns.FacetGrid(df,hue='Pclass',aspect=4)\n",
    "\n",
    "#setting the plot type to a kde plot and the age column as the x axis\n",
    "fig.map(sns.kdeplot,'Age',shade=True)\n",
    "\n",
    "#getting the age of the oldest person in the dataset\n",
    "oldest = df['Age'].max()\n",
    "\n",
    "#setting the x axis limit\n",
    "fig.set(xlim=(0,oldest))\n",
    "\n",
    "#adding a legend to the plot\n",
    "fig.add_legend()"
   ]
  },
  {
   "cell_type": "code",
   "execution_count": 11,
   "metadata": {},
   "outputs": [
    {
     "data": {
      "image/png": "[encoded data removed]",
      "text/plain": [
       "<Figure size 1080x576 with 1 Axes>"
      ]
     },
     "metadata": {},
     "output_type": "display_data"
    }
   ],
   "source": [
    "# Kernel Density Plot\n",
    "fig = plt.figure(figsize=(15,8),)\n",
    "ax=sns.kdeplot(df.loc[(df['Survived'] == 0),'Age'] , color='gray',shade=True,label='not survived')\n",
    "ax=sns.kdeplot(df.loc[(df['Survived'] == 1),'Age'] , color='g',shade=True, label='survived')\n",
    "plt.title('Age Distribution - Surviver V.S. Non Survivors', fontsize = 25, pad = 40)\n",
    "plt.xlabel(\"Age\", fontsize = 15, labelpad = 20)\n",
    "plt.ylabel('Frequency', fontsize = 15, labelpad= 20);"
   ]
  },
  {
   "cell_type": "code",
   "execution_count": 15,
   "metadata": {
    "scrolled": true
   },
   "outputs": [
    {
     "data": {
      "image/png": "[encoded data removed]",
      "text/plain": [
       "<Figure size 720x432 with 1 Axes>"
      ]
     },
     "metadata": {},
     "output_type": "display_data"
    }
   ],
   "source": [
    "# Kernel Density Plot\n",
    "fig = plt.figure(figsize=(10,6),)\n",
    "## I have included to different ways to code a plot below, choose the one that suites you. \n",
    "ax=sns.kdeplot(df.Pclass[df.Survived == 0] , \n",
    "               color='gray',\n",
    "               shade=True,\n",
    "               label='not survived')\n",
    "ax=sns.kdeplot(df.loc[(df['Survived'] == 1),'Pclass'] , \n",
    "               color='g',\n",
    "               shade=True, \n",
    "               label='survived', \n",
    "              )\n",
    "plt.title('Passenger Class Distribution - Survived vs Non-Survived', fontsize = 25, pad = 40)\n",
    "plt.ylabel(\"Frequency of Passenger Survived\", fontsize = 15, labelpad = 20)\n",
    "plt.xlabel(\"Passenger Class\", fontsize = 15,labelpad =20)\n",
    "## Converting xticks into words for better understanding\n",
    "labels = ['Upper', 'Middle', 'Lower']\n",
    "plt.xticks(sorted(df.Pclass.unique()), labels);"
   ]
  },
  {
   "cell_type": "code",
   "execution_count": 16,
   "metadata": {},
   "outputs": [
    {
     "data": {
      "text/plain": [
       "<matplotlib.axes._subplots.AxesSubplot at 0x5803dc8>"
      ]
     },
     "execution_count": 16,
     "metadata": {},
     "output_type": "execute_result"
    },
    {
     "data": {
      "image/png": "[encoded data removed]",
      "text/plain": [
       "<Figure size 720x504 with 2 Axes>"
      ]
     },
     "metadata": {},
     "output_type": "display_data"
    }
   ],
   "source": [
    "# Correlation between the feature variables\n",
    "correlation = df.corr()\n",
    "\n",
    "# A heatmap visulisation of the correlation between features\n",
    "\n",
    "plt.figure(figsize = (10,7))\n",
    "sns.heatmap(correlation, annot = True, cmap='viridis')"
   ]
  },
  {
   "cell_type": "markdown",
   "metadata": {},
   "source": [
    "## 3.0 Data Pre-Processing"
   ]
  },
  {
   "cell_type": "markdown",
   "metadata": {},
   "source": [
    "### 3.1 Missing Data"
   ]
  },
  {
   "cell_type": "code",
   "execution_count": 123,
   "metadata": {},
   "outputs": [
    {
     "data": {
      "text/plain": [
       "PassengerId      0\n",
       "Survived         0\n",
       "Pclass           0\n",
       "Name             0\n",
       "Sex              0\n",
       "Age            177\n",
       "SibSp            0\n",
       "Parch            0\n",
       "Ticket           0\n",
       "Fare             0\n",
       "Cabin          687\n",
       "Embarked         2\n",
       "dtype: int64"
      ]
     },
     "execution_count": 123,
     "metadata": {},
     "output_type": "execute_result"
    }
   ],
   "source": [
    "df.isnull().sum()"
   ]
  },
  {
   "cell_type": "code",
   "execution_count": 36,
   "metadata": {},
   "outputs": [
    {
     "data": {
      "text/plain": [
       "<matplotlib.axes._subplots.AxesSubplot at 0xbc81448>"
      ]
     },
     "execution_count": 36,
     "metadata": {},
     "output_type": "execute_result"
    },
    {
     "data": {
      "image/png": "[encoded data removed]",
      "text/plain": [
       "<Figure size 432x288 with 1 Axes>"
      ]
     },
     "metadata": {},
     "output_type": "display_data"
    }
   ],
   "source": [
    "# Visualise missing data\n",
    "sns.heatmap(df.isnull(),yticklabels=False, cbar=False, cmap='viridis')"
   ]
  },
  {
   "cell_type": "code",
   "execution_count": 47,
   "metadata": {},
   "outputs": [
    {
     "data": {
      "text/plain": [
       "Pclass\n",
       "1    38.233441\n",
       "2    29.877630\n",
       "3    25.140620\n",
       "Name: Age, dtype: float64"
      ]
     },
     "execution_count": 47,
     "metadata": {},
     "output_type": "execute_result"
    }
   ],
   "source": [
    "# We can impute the missing age data by taking the average ages from the passenger class\n",
    "df.groupby('Pclass')['Age'].mean()"
   ]
  },
  {
   "cell_type": "code",
   "execution_count": 184,
   "metadata": {},
   "outputs": [],
   "source": [
    "def impute_age(cols):\n",
    "    Age = cols[0]\n",
    "    Pclass = cols[1]\n",
    "    \n",
    "    if pd.isnull(Age):\n",
    "        if Pclass == 1:\n",
    "            return 38\n",
    "        elif Pclass == 2:\n",
    "            return 29\n",
    "        else:\n",
    "            return 25\n",
    "    \n",
    "    return Age"
   ]
  },
  {
   "cell_type": "code",
   "execution_count": 185,
   "metadata": {},
   "outputs": [],
   "source": [
    "df['Age'] = df[['Age','Pclass']].apply(impute_age, axis=1)\n",
    "df_test['Age'] = df_test[['Age','Pclass']].apply(impute_age, axis=1)"
   ]
  },
  {
   "cell_type": "code",
   "execution_count": 186,
   "metadata": {},
   "outputs": [],
   "source": [
    "#df.isnull().sum()\n"
   ]
  },
  {
   "cell_type": "code",
   "execution_count": 187,
   "metadata": {},
   "outputs": [],
   "source": [
    "# There is too much missing cabin data and no way to complete the missing, therefore the feature is dropped\n",
    "df.drop('Cabin', axis=1, inplace=True)\n",
    "df_test.drop('Cabin', axis=1, inplace=True)"
   ]
  },
  {
   "cell_type": "code",
   "execution_count": 188,
   "metadata": {},
   "outputs": [],
   "source": [
    "# The two missing embarked examples can be removed\n",
    "df = df.dropna()"
   ]
  },
  {
   "cell_type": "code",
   "execution_count": 189,
   "metadata": {},
   "outputs": [
    {
     "data": {
      "text/plain": [
       "PassengerId    0\n",
       "Pclass         0\n",
       "Name           0\n",
       "Sex            0\n",
       "Age            0\n",
       "SibSp          0\n",
       "Parch          0\n",
       "Ticket         0\n",
       "Fare           1\n",
       "Embarked       0\n",
       "person         0\n",
       "dtype: int64"
      ]
     },
     "execution_count": 189,
     "metadata": {},
     "output_type": "execute_result"
    }
   ],
   "source": [
    "df_test.isnull().sum()"
   ]
  },
  {
   "cell_type": "code",
   "execution_count": 190,
   "metadata": {},
   "outputs": [
    {
     "data": {
      "text/plain": [
       "Pclass\n",
       "1    94.280297\n",
       "2    22.202104\n",
       "3    12.459678\n",
       "Name: Fare, dtype: float64"
      ]
     },
     "execution_count": 190,
     "metadata": {},
     "output_type": "execute_result"
    }
   ],
   "source": [
    "df_test.groupby('Pclass')['Fare'].mean()"
   ]
  },
  {
   "cell_type": "code",
   "execution_count": 191,
   "metadata": {},
   "outputs": [
    {
     "data": {
      "text/plain": [
       "152    3\n",
       "Name: Pclass, dtype: int64"
      ]
     },
     "execution_count": 191,
     "metadata": {},
     "output_type": "execute_result"
    }
   ],
   "source": [
    "# What is the Passenger class for the missing fare\n",
    "df_test[df_test['Fare'].isnull() == True]['Pclass']\n"
   ]
  },
  {
   "cell_type": "code",
   "execution_count": 192,
   "metadata": {},
   "outputs": [
    {
     "data": {
      "text/plain": [
       "nan"
      ]
     },
     "execution_count": 192,
     "metadata": {},
     "output_type": "execute_result"
    }
   ],
   "source": [
    "df_test['Fare'].iloc[152]"
   ]
  },
  {
   "cell_type": "code",
   "execution_count": 193,
   "metadata": {},
   "outputs": [],
   "source": [
    "# Update cell with mean of fare for class 3\n",
    "df_test.at[152, 'Fare'] = 12.459"
   ]
  },
  {
   "cell_type": "code",
   "execution_count": 194,
   "metadata": {},
   "outputs": [
    {
     "data": {
      "text/plain": [
       "12.459"
      ]
     },
     "execution_count": 194,
     "metadata": {},
     "output_type": "execute_result"
    }
   ],
   "source": [
    "df_test['Fare'].iloc[152]"
   ]
  },
  {
   "cell_type": "code",
   "execution_count": 195,
   "metadata": {},
   "outputs": [
    {
     "data": {
      "text/plain": [
       "PassengerId    0\n",
       "Pclass         0\n",
       "Name           0\n",
       "Sex            0\n",
       "Age            0\n",
       "SibSp          0\n",
       "Parch          0\n",
       "Ticket         0\n",
       "Fare           0\n",
       "Embarked       0\n",
       "person         0\n",
       "dtype: int64"
      ]
     },
     "execution_count": 195,
     "metadata": {},
     "output_type": "execute_result"
    }
   ],
   "source": [
    "df_test.isnull().sum()"
   ]
  },
  {
   "cell_type": "markdown",
   "metadata": {},
   "source": [
    "### 3.2 Feature Engineering"
   ]
  },
  {
   "cell_type": "code",
   "execution_count": 196,
   "metadata": {},
   "outputs": [],
   "source": [
    "# Create family size feature\n",
    "\n",
    "df['family_size'] = df.SibSp + df.Parch+1\n",
    "df_test['family_size'] = df_test.SibSp + df_test.Parch+1"
   ]
  },
  {
   "cell_type": "code",
   "execution_count": 197,
   "metadata": {},
   "outputs": [],
   "source": [
    "def family_group(size):\n",
    "    a = ''\n",
    "    if (size <= 1):\n",
    "        a = 'loner'\n",
    "    elif (size <= 4):\n",
    "        a = 'small'\n",
    "    else:\n",
    "        a = 'large'\n",
    "    return a"
   ]
  },
  {
   "cell_type": "code",
   "execution_count": 198,
   "metadata": {},
   "outputs": [],
   "source": [
    "df['family_group'] = df['family_size'].map(family_group)\n",
    "df_test['family_group'] = df_test['family_size'].map(family_group)"
   ]
  },
  {
   "cell_type": "code",
   "execution_count": 199,
   "metadata": {},
   "outputs": [],
   "source": [
    "#Create column to indicating if the passenger is alone\n",
    "\n",
    "df['is_alone'] = [1 if i<2 else 0 for i in df.family_size]\n",
    "df_test['is_alone'] = [1 if i<2 else 0 for i in df_test.family_size]"
   ]
  },
  {
   "cell_type": "code",
   "execution_count": 200,
   "metadata": {},
   "outputs": [],
   "source": [
    "## Calculating fare based on family size.  people have travelled in groups like family or friends. \n",
    "# It seems like Fare column kept a record of the total fare rather than the fare of individual passenger, \n",
    "# therefore calculated fare will be much handy in this situation.\n",
    "\n",
    "df['calculated_fare'] = df.Fare/df.family_size\n",
    "df_test['calculated_fare'] = df_test.Fare/df_test.family_size"
   ]
  },
  {
   "cell_type": "code",
   "execution_count": 201,
   "metadata": {},
   "outputs": [
    {
     "data": {
      "text/html": [
       "<div>\n",
       "<style scoped>\n",
       "    .dataframe tbody tr th:only-of-type {\n",
       "        vertical-align: middle;\n",
       "    }\n",
       "\n",
       "    .dataframe tbody tr th {\n",
       "        vertical-align: top;\n",
       "    }\n",
       "\n",
       "    .dataframe thead th {\n",
       "        text-align: right;\n",
       "    }\n",
       "</style>\n",
       "<table border=\"1\" class=\"dataframe\">\n",
       "  <thead>\n",
       "    <tr style=\"text-align: right;\">\n",
       "      <th></th>\n",
       "      <th>PassengerId</th>\n",
       "      <th>Survived</th>\n",
       "      <th>Pclass</th>\n",
       "      <th>Name</th>\n",
       "      <th>Sex</th>\n",
       "      <th>Age</th>\n",
       "      <th>SibSp</th>\n",
       "      <th>Parch</th>\n",
       "      <th>Ticket</th>\n",
       "      <th>Fare</th>\n",
       "      <th>Embarked</th>\n",
       "      <th>person</th>\n",
       "      <th>family_size</th>\n",
       "      <th>family_group</th>\n",
       "      <th>is_alone</th>\n",
       "      <th>calculated_fare</th>\n",
       "    </tr>\n",
       "  </thead>\n",
       "  <tbody>\n",
       "    <tr>\n",
       "      <th>0</th>\n",
       "      <td>1</td>\n",
       "      <td>0</td>\n",
       "      <td>3</td>\n",
       "      <td>Braund, Mr. Owen Harris</td>\n",
       "      <td>male</td>\n",
       "      <td>22.0</td>\n",
       "      <td>1</td>\n",
       "      <td>0</td>\n",
       "      <td>A/5 21171</td>\n",
       "      <td>7.2500</td>\n",
       "      <td>S</td>\n",
       "      <td>male</td>\n",
       "      <td>2</td>\n",
       "      <td>small</td>\n",
       "      <td>0</td>\n",
       "      <td>3.62500</td>\n",
       "    </tr>\n",
       "    <tr>\n",
       "      <th>1</th>\n",
       "      <td>2</td>\n",
       "      <td>1</td>\n",
       "      <td>1</td>\n",
       "      <td>Cumings, Mrs. John Bradley (Florence Briggs Th...</td>\n",
       "      <td>female</td>\n",
       "      <td>38.0</td>\n",
       "      <td>1</td>\n",
       "      <td>0</td>\n",
       "      <td>PC 17599</td>\n",
       "      <td>71.2833</td>\n",
       "      <td>C</td>\n",
       "      <td>female</td>\n",
       "      <td>2</td>\n",
       "      <td>small</td>\n",
       "      <td>0</td>\n",
       "      <td>35.64165</td>\n",
       "    </tr>\n",
       "  </tbody>\n",
       "</table>\n",
       "</div>"
      ],
      "text/plain": [
       "   PassengerId  Survived  Pclass  \\\n",
       "0            1         0       3   \n",
       "1            2         1       1   \n",
       "\n",
       "                                                Name     Sex   Age  SibSp  \\\n",
       "0                            Braund, Mr. Owen Harris    male  22.0      1   \n",
       "1  Cumings, Mrs. John Bradley (Florence Briggs Th...  female  38.0      1   \n",
       "\n",
       "   Parch     Ticket     Fare Embarked  person  family_size family_group  \\\n",
       "0      0  A/5 21171   7.2500        S    male            2        small   \n",
       "1      0   PC 17599  71.2833        C  female            2        small   \n",
       "\n",
       "   is_alone  calculated_fare  \n",
       "0         0          3.62500  \n",
       "1         0         35.64165  "
      ]
     },
     "execution_count": 201,
     "metadata": {},
     "output_type": "execute_result"
    }
   ],
   "source": [
    "df.head(2)"
   ]
  },
  {
   "cell_type": "markdown",
   "metadata": {},
   "source": [
    "### 3.3 Categorical and Dummy Variables"
   ]
  },
  {
   "cell_type": "code",
   "execution_count": 202,
   "metadata": {},
   "outputs": [],
   "source": [
    "# Convert Sex and Embarked data to numerical/dummy data\n",
    "sex = pd.get_dummies(df['Sex'], drop_first=True)\n",
    "embark = pd.get_dummies(df['Embarked'], drop_first=False)\n",
    "persons = pd.get_dummies(df['person'], drop_first=False)\n",
    "family_group = pd.get_dummies(df['family_group'], drop_first=False)\n",
    "\n",
    "sex_test = pd.get_dummies(df_test['Sex'], drop_first=True)\n",
    "embark_test = pd.get_dummies(df_test['Embarked'], drop_first=False)\n",
    "persons_test = pd.get_dummies(df_test['person'], drop_first=False)\n",
    "family_group_test = pd.get_dummies(df_test['family_group'], drop_first=False)"
   ]
  },
  {
   "cell_type": "code",
   "execution_count": 203,
   "metadata": {},
   "outputs": [],
   "source": [
    "# Concatenate on to df\n",
    "df = pd.concat([df,sex,embark,persons,family_group], axis = 1)\n",
    "df_test = pd.concat([df_test,sex_test,embark_test,persons_test,family_group_test], axis = 1)"
   ]
  },
  {
   "cell_type": "code",
   "execution_count": 204,
   "metadata": {},
   "outputs": [],
   "source": [
    "df.drop(['Sex','Embarked','PassengerId','Name','Ticket','Fare','family_size','person','family_group'], axis=1, inplace=True)\n",
    "df_test.drop(['Sex','Embarked','PassengerId','Name','Ticket','Fare','family_size','person','family_group'], axis=1, inplace=True)"
   ]
  },
  {
   "cell_type": "code",
   "execution_count": 205,
   "metadata": {},
   "outputs": [
    {
     "data": {
      "text/html": [
       "<div>\n",
       "<style scoped>\n",
       "    .dataframe tbody tr th:only-of-type {\n",
       "        vertical-align: middle;\n",
       "    }\n",
       "\n",
       "    .dataframe tbody tr th {\n",
       "        vertical-align: top;\n",
       "    }\n",
       "\n",
       "    .dataframe thead th {\n",
       "        text-align: right;\n",
       "    }\n",
       "</style>\n",
       "<table border=\"1\" class=\"dataframe\">\n",
       "  <thead>\n",
       "    <tr style=\"text-align: right;\">\n",
       "      <th></th>\n",
       "      <th>Survived</th>\n",
       "      <th>Pclass</th>\n",
       "      <th>Age</th>\n",
       "      <th>SibSp</th>\n",
       "      <th>Parch</th>\n",
       "      <th>is_alone</th>\n",
       "      <th>calculated_fare</th>\n",
       "      <th>male</th>\n",
       "      <th>C</th>\n",
       "      <th>Q</th>\n",
       "      <th>S</th>\n",
       "      <th>child</th>\n",
       "      <th>female</th>\n",
       "      <th>male</th>\n",
       "      <th>large</th>\n",
       "      <th>loner</th>\n",
       "      <th>small</th>\n",
       "    </tr>\n",
       "  </thead>\n",
       "  <tbody>\n",
       "    <tr>\n",
       "      <th>0</th>\n",
       "      <td>0</td>\n",
       "      <td>3</td>\n",
       "      <td>22.0</td>\n",
       "      <td>1</td>\n",
       "      <td>0</td>\n",
       "      <td>0</td>\n",
       "      <td>3.62500</td>\n",
       "      <td>1</td>\n",
       "      <td>0</td>\n",
       "      <td>0</td>\n",
       "      <td>1</td>\n",
       "      <td>0</td>\n",
       "      <td>0</td>\n",
       "      <td>1</td>\n",
       "      <td>0</td>\n",
       "      <td>0</td>\n",
       "      <td>1</td>\n",
       "    </tr>\n",
       "    <tr>\n",
       "      <th>1</th>\n",
       "      <td>1</td>\n",
       "      <td>1</td>\n",
       "      <td>38.0</td>\n",
       "      <td>1</td>\n",
       "      <td>0</td>\n",
       "      <td>0</td>\n",
       "      <td>35.64165</td>\n",
       "      <td>0</td>\n",
       "      <td>1</td>\n",
       "      <td>0</td>\n",
       "      <td>0</td>\n",
       "      <td>0</td>\n",
       "      <td>1</td>\n",
       "      <td>0</td>\n",
       "      <td>0</td>\n",
       "      <td>0</td>\n",
       "      <td>1</td>\n",
       "    </tr>\n",
       "  </tbody>\n",
       "</table>\n",
       "</div>"
      ],
      "text/plain": [
       "   Survived  Pclass   Age  SibSp  Parch  is_alone  calculated_fare  male  C  \\\n",
       "0         0       3  22.0      1      0         0          3.62500     1  0   \n",
       "1         1       1  38.0      1      0         0         35.64165     0  1   \n",
       "\n",
       "   Q  S  child  female  male  large  loner  small  \n",
       "0  0  1      0       0     1      0      0      1  \n",
       "1  0  0      0       1     0      0      0      1  "
      ]
     },
     "execution_count": 205,
     "metadata": {},
     "output_type": "execute_result"
    }
   ],
   "source": [
    "df.head(2)"
   ]
  },
  {
   "cell_type": "code",
   "execution_count": 206,
   "metadata": {},
   "outputs": [
    {
     "data": {
      "text/html": [
       "<div>\n",
       "<style scoped>\n",
       "    .dataframe tbody tr th:only-of-type {\n",
       "        vertical-align: middle;\n",
       "    }\n",
       "\n",
       "    .dataframe tbody tr th {\n",
       "        vertical-align: top;\n",
       "    }\n",
       "\n",
       "    .dataframe thead th {\n",
       "        text-align: right;\n",
       "    }\n",
       "</style>\n",
       "<table border=\"1\" class=\"dataframe\">\n",
       "  <thead>\n",
       "    <tr style=\"text-align: right;\">\n",
       "      <th></th>\n",
       "      <th>Pclass</th>\n",
       "      <th>Age</th>\n",
       "      <th>SibSp</th>\n",
       "      <th>Parch</th>\n",
       "      <th>is_alone</th>\n",
       "      <th>calculated_fare</th>\n",
       "      <th>male</th>\n",
       "      <th>C</th>\n",
       "      <th>Q</th>\n",
       "      <th>S</th>\n",
       "      <th>child</th>\n",
       "      <th>female</th>\n",
       "      <th>male</th>\n",
       "      <th>large</th>\n",
       "      <th>loner</th>\n",
       "      <th>small</th>\n",
       "    </tr>\n",
       "  </thead>\n",
       "  <tbody>\n",
       "    <tr>\n",
       "      <th>0</th>\n",
       "      <td>3</td>\n",
       "      <td>34.5</td>\n",
       "      <td>0</td>\n",
       "      <td>0</td>\n",
       "      <td>1</td>\n",
       "      <td>7.8292</td>\n",
       "      <td>1</td>\n",
       "      <td>0</td>\n",
       "      <td>1</td>\n",
       "      <td>0</td>\n",
       "      <td>0</td>\n",
       "      <td>0</td>\n",
       "      <td>1</td>\n",
       "      <td>0</td>\n",
       "      <td>1</td>\n",
       "      <td>0</td>\n",
       "    </tr>\n",
       "    <tr>\n",
       "      <th>1</th>\n",
       "      <td>3</td>\n",
       "      <td>47.0</td>\n",
       "      <td>1</td>\n",
       "      <td>0</td>\n",
       "      <td>0</td>\n",
       "      <td>3.5000</td>\n",
       "      <td>0</td>\n",
       "      <td>0</td>\n",
       "      <td>0</td>\n",
       "      <td>1</td>\n",
       "      <td>0</td>\n",
       "      <td>1</td>\n",
       "      <td>0</td>\n",
       "      <td>0</td>\n",
       "      <td>0</td>\n",
       "      <td>1</td>\n",
       "    </tr>\n",
       "  </tbody>\n",
       "</table>\n",
       "</div>"
      ],
      "text/plain": [
       "   Pclass   Age  SibSp  Parch  is_alone  calculated_fare  male  C  Q  S  \\\n",
       "0       3  34.5      0      0         1           7.8292     1  0  1  0   \n",
       "1       3  47.0      1      0         0           3.5000     0  0  0  1   \n",
       "\n",
       "   child  female  male  large  loner  small  \n",
       "0      0       0     1      0      1      0  \n",
       "1      0       1     0      0      0      1  "
      ]
     },
     "execution_count": 206,
     "metadata": {},
     "output_type": "execute_result"
    }
   ],
   "source": [
    "df_test.head(2)"
   ]
  },
  {
   "cell_type": "markdown",
   "metadata": {},
   "source": [
    "# 4.0 Model Building"
   ]
  },
  {
   "cell_type": "markdown",
   "metadata": {},
   "source": [
    "### 4.1 Train Test Split"
   ]
  },
  {
   "cell_type": "code",
   "execution_count": 213,
   "metadata": {},
   "outputs": [
    {
     "data": {
      "text/html": [
       "<div>\n",
       "<style scoped>\n",
       "    .dataframe tbody tr th:only-of-type {\n",
       "        vertical-align: middle;\n",
       "    }\n",
       "\n",
       "    .dataframe tbody tr th {\n",
       "        vertical-align: top;\n",
       "    }\n",
       "\n",
       "    .dataframe thead th {\n",
       "        text-align: right;\n",
       "    }\n",
       "</style>\n",
       "<table border=\"1\" class=\"dataframe\">\n",
       "  <thead>\n",
       "    <tr style=\"text-align: right;\">\n",
       "      <th></th>\n",
       "      <th>Pclass</th>\n",
       "      <th>Age</th>\n",
       "      <th>SibSp</th>\n",
       "      <th>Parch</th>\n",
       "      <th>is_alone</th>\n",
       "      <th>calculated_fare</th>\n",
       "      <th>male</th>\n",
       "      <th>C</th>\n",
       "      <th>Q</th>\n",
       "      <th>S</th>\n",
       "      <th>child</th>\n",
       "      <th>female</th>\n",
       "      <th>male</th>\n",
       "      <th>large</th>\n",
       "      <th>loner</th>\n",
       "      <th>small</th>\n",
       "    </tr>\n",
       "  </thead>\n",
       "  <tbody>\n",
       "    <tr>\n",
       "      <th>0</th>\n",
       "      <td>3</td>\n",
       "      <td>22.0</td>\n",
       "      <td>1</td>\n",
       "      <td>0</td>\n",
       "      <td>0</td>\n",
       "      <td>3.62500</td>\n",
       "      <td>1</td>\n",
       "      <td>0</td>\n",
       "      <td>0</td>\n",
       "      <td>1</td>\n",
       "      <td>0</td>\n",
       "      <td>0</td>\n",
       "      <td>1</td>\n",
       "      <td>0</td>\n",
       "      <td>0</td>\n",
       "      <td>1</td>\n",
       "    </tr>\n",
       "    <tr>\n",
       "      <th>1</th>\n",
       "      <td>1</td>\n",
       "      <td>38.0</td>\n",
       "      <td>1</td>\n",
       "      <td>0</td>\n",
       "      <td>0</td>\n",
       "      <td>35.64165</td>\n",
       "      <td>0</td>\n",
       "      <td>1</td>\n",
       "      <td>0</td>\n",
       "      <td>0</td>\n",
       "      <td>0</td>\n",
       "      <td>1</td>\n",
       "      <td>0</td>\n",
       "      <td>0</td>\n",
       "      <td>0</td>\n",
       "      <td>1</td>\n",
       "    </tr>\n",
       "    <tr>\n",
       "      <th>2</th>\n",
       "      <td>3</td>\n",
       "      <td>26.0</td>\n",
       "      <td>0</td>\n",
       "      <td>0</td>\n",
       "      <td>1</td>\n",
       "      <td>7.92500</td>\n",
       "      <td>0</td>\n",
       "      <td>0</td>\n",
       "      <td>0</td>\n",
       "      <td>1</td>\n",
       "      <td>0</td>\n",
       "      <td>1</td>\n",
       "      <td>0</td>\n",
       "      <td>0</td>\n",
       "      <td>1</td>\n",
       "      <td>0</td>\n",
       "    </tr>\n",
       "    <tr>\n",
       "      <th>3</th>\n",
       "      <td>1</td>\n",
       "      <td>35.0</td>\n",
       "      <td>1</td>\n",
       "      <td>0</td>\n",
       "      <td>0</td>\n",
       "      <td>26.55000</td>\n",
       "      <td>0</td>\n",
       "      <td>0</td>\n",
       "      <td>0</td>\n",
       "      <td>1</td>\n",
       "      <td>0</td>\n",
       "      <td>1</td>\n",
       "      <td>0</td>\n",
       "      <td>0</td>\n",
       "      <td>0</td>\n",
       "      <td>1</td>\n",
       "    </tr>\n",
       "    <tr>\n",
       "      <th>4</th>\n",
       "      <td>3</td>\n",
       "      <td>35.0</td>\n",
       "      <td>0</td>\n",
       "      <td>0</td>\n",
       "      <td>1</td>\n",
       "      <td>8.05000</td>\n",
       "      <td>1</td>\n",
       "      <td>0</td>\n",
       "      <td>0</td>\n",
       "      <td>1</td>\n",
       "      <td>0</td>\n",
       "      <td>0</td>\n",
       "      <td>1</td>\n",
       "      <td>0</td>\n",
       "      <td>1</td>\n",
       "      <td>0</td>\n",
       "    </tr>\n",
       "  </tbody>\n",
       "</table>\n",
       "</div>"
      ],
      "text/plain": [
       "   Pclass   Age  SibSp  Parch  is_alone  calculated_fare  male  C  Q  S  \\\n",
       "0       3  22.0      1      0         0          3.62500     1  0  0  1   \n",
       "1       1  38.0      1      0         0         35.64165     0  1  0  0   \n",
       "2       3  26.0      0      0         1          7.92500     0  0  0  1   \n",
       "3       1  35.0      1      0         0         26.55000     0  0  0  1   \n",
       "4       3  35.0      0      0         1          8.05000     1  0  0  1   \n",
       "\n",
       "   child  female  male  large  loner  small  \n",
       "0      0       0     1      0      0      1  \n",
       "1      0       1     0      0      0      1  \n",
       "2      0       1     0      0      1      0  \n",
       "3      0       1     0      0      0      1  \n",
       "4      0       0     1      0      1      0  "
      ]
     },
     "execution_count": 213,
     "metadata": {},
     "output_type": "execute_result"
    }
   ],
   "source": [
    "X = df.drop('Survived', axis=1)\n",
    "y = df['Survived']\n",
    "X.head()"
   ]
  },
  {
   "cell_type": "code",
   "execution_count": 215,
   "metadata": {},
   "outputs": [
    {
     "data": {
      "text/html": [
       "<div>\n",
       "<style scoped>\n",
       "    .dataframe tbody tr th:only-of-type {\n",
       "        vertical-align: middle;\n",
       "    }\n",
       "\n",
       "    .dataframe tbody tr th {\n",
       "        vertical-align: top;\n",
       "    }\n",
       "\n",
       "    .dataframe thead th {\n",
       "        text-align: right;\n",
       "    }\n",
       "</style>\n",
       "<table border=\"1\" class=\"dataframe\">\n",
       "  <thead>\n",
       "    <tr style=\"text-align: right;\">\n",
       "      <th></th>\n",
       "      <th>Pclass</th>\n",
       "      <th>Age</th>\n",
       "      <th>SibSp</th>\n",
       "      <th>Parch</th>\n",
       "      <th>is_alone</th>\n",
       "      <th>calculated_fare</th>\n",
       "      <th>male</th>\n",
       "      <th>C</th>\n",
       "      <th>Q</th>\n",
       "      <th>S</th>\n",
       "      <th>child</th>\n",
       "      <th>female</th>\n",
       "      <th>male</th>\n",
       "      <th>large</th>\n",
       "      <th>loner</th>\n",
       "      <th>small</th>\n",
       "    </tr>\n",
       "  </thead>\n",
       "  <tbody>\n",
       "    <tr>\n",
       "      <th>0</th>\n",
       "      <td>3</td>\n",
       "      <td>34.5</td>\n",
       "      <td>0</td>\n",
       "      <td>0</td>\n",
       "      <td>1</td>\n",
       "      <td>7.829200</td>\n",
       "      <td>1</td>\n",
       "      <td>0</td>\n",
       "      <td>1</td>\n",
       "      <td>0</td>\n",
       "      <td>0</td>\n",
       "      <td>0</td>\n",
       "      <td>1</td>\n",
       "      <td>0</td>\n",
       "      <td>1</td>\n",
       "      <td>0</td>\n",
       "    </tr>\n",
       "    <tr>\n",
       "      <th>1</th>\n",
       "      <td>3</td>\n",
       "      <td>47.0</td>\n",
       "      <td>1</td>\n",
       "      <td>0</td>\n",
       "      <td>0</td>\n",
       "      <td>3.500000</td>\n",
       "      <td>0</td>\n",
       "      <td>0</td>\n",
       "      <td>0</td>\n",
       "      <td>1</td>\n",
       "      <td>0</td>\n",
       "      <td>1</td>\n",
       "      <td>0</td>\n",
       "      <td>0</td>\n",
       "      <td>0</td>\n",
       "      <td>1</td>\n",
       "    </tr>\n",
       "    <tr>\n",
       "      <th>2</th>\n",
       "      <td>2</td>\n",
       "      <td>62.0</td>\n",
       "      <td>0</td>\n",
       "      <td>0</td>\n",
       "      <td>1</td>\n",
       "      <td>9.687500</td>\n",
       "      <td>1</td>\n",
       "      <td>0</td>\n",
       "      <td>1</td>\n",
       "      <td>0</td>\n",
       "      <td>0</td>\n",
       "      <td>0</td>\n",
       "      <td>1</td>\n",
       "      <td>0</td>\n",
       "      <td>1</td>\n",
       "      <td>0</td>\n",
       "    </tr>\n",
       "    <tr>\n",
       "      <th>3</th>\n",
       "      <td>3</td>\n",
       "      <td>27.0</td>\n",
       "      <td>0</td>\n",
       "      <td>0</td>\n",
       "      <td>1</td>\n",
       "      <td>8.662500</td>\n",
       "      <td>1</td>\n",
       "      <td>0</td>\n",
       "      <td>0</td>\n",
       "      <td>1</td>\n",
       "      <td>0</td>\n",
       "      <td>0</td>\n",
       "      <td>1</td>\n",
       "      <td>0</td>\n",
       "      <td>1</td>\n",
       "      <td>0</td>\n",
       "    </tr>\n",
       "    <tr>\n",
       "      <th>4</th>\n",
       "      <td>3</td>\n",
       "      <td>22.0</td>\n",
       "      <td>1</td>\n",
       "      <td>1</td>\n",
       "      <td>0</td>\n",
       "      <td>4.095833</td>\n",
       "      <td>0</td>\n",
       "      <td>0</td>\n",
       "      <td>0</td>\n",
       "      <td>1</td>\n",
       "      <td>0</td>\n",
       "      <td>1</td>\n",
       "      <td>0</td>\n",
       "      <td>0</td>\n",
       "      <td>0</td>\n",
       "      <td>1</td>\n",
       "    </tr>\n",
       "  </tbody>\n",
       "</table>\n",
       "</div>"
      ],
      "text/plain": [
       "   Pclass   Age  SibSp  Parch  is_alone  calculated_fare  male  C  Q  S  \\\n",
       "0       3  34.5      0      0         1         7.829200     1  0  1  0   \n",
       "1       3  47.0      1      0         0         3.500000     0  0  0  1   \n",
       "2       2  62.0      0      0         1         9.687500     1  0  1  0   \n",
       "3       3  27.0      0      0         1         8.662500     1  0  0  1   \n",
       "4       3  22.0      1      1         0         4.095833     0  0  0  1   \n",
       "\n",
       "   child  female  male  large  loner  small  \n",
       "0      0       0     1      0      1      0  \n",
       "1      0       1     0      0      0      1  \n",
       "2      0       0     1      0      1      0  \n",
       "3      0       0     1      0      1      0  \n",
       "4      0       1     0      0      0      1  "
      ]
     },
     "execution_count": 215,
     "metadata": {},
     "output_type": "execute_result"
    }
   ],
   "source": [
    "X_test_kaggle = df_test\n",
    "X_test_kaggle.head()"
   ]
  },
  {
   "cell_type": "code",
   "execution_count": null,
   "metadata": {},
   "outputs": [],
   "source": []
  },
  {
   "cell_type": "code",
   "execution_count": 290,
   "metadata": {},
   "outputs": [],
   "source": [
    "from sklearn.model_selection import train_test_split\n",
    "X_train, X_test, y_train, y_test = train_test_split(X, y,test_size = .33, random_state=0)"
   ]
  },
  {
   "cell_type": "markdown",
   "metadata": {},
   "source": [
    "### 4.2 Feature Scaling"
   ]
  },
  {
   "cell_type": "code",
   "execution_count": 217,
   "metadata": {},
   "outputs": [],
   "source": [
    "# Feature Scaling\n",
    "## We will be using standardscaler to transform\n",
    "from sklearn.preprocessing import StandardScaler\n",
    "sc = StandardScaler()\n",
    "\n",
    "## transforming \"train_x\"\n",
    "X_train = sc.fit_transform(X_train)\n",
    "## transforming \"test_x\"\n",
    "X_test = sc.transform(X_test)\n",
    "## transforming \"test_x\"\n",
    "X_test_kaggle = sc.transform(X_test_kaggle)"
   ]
  },
  {
   "cell_type": "code",
   "execution_count": 218,
   "metadata": {},
   "outputs": [
    {
     "data": {
      "text/plain": [
       "array([[ 0.8298822 , -1.85763918,  3.06359711, ...,  3.45467547,\n",
       "        -1.25974463, -0.66909533],\n",
       "       [ 0.8298822 ,  0.7984623 ,  0.41283567, ..., -0.28946279,\n",
       "        -1.25974463,  1.49455534],\n",
       "       [ 0.8298822 ,  0.06065633,  0.41283567, ..., -0.28946279,\n",
       "        -1.25974463,  1.49455534],\n",
       "       ...,\n",
       "       [-1.59060754,  3.74968616, -0.47075147, ..., -0.28946279,\n",
       "         0.79381168, -0.66909533],\n",
       "       [ 0.8298822 , -0.30824665, -0.47075147, ..., -0.28946279,\n",
       "         0.79381168, -0.66909533],\n",
       "       [-0.38036267, -0.30824665,  0.41283567, ..., -0.28946279,\n",
       "        -1.25974463,  1.49455534]])"
      ]
     },
     "execution_count": 218,
     "metadata": {},
     "output_type": "execute_result"
    }
   ],
   "source": [
    "X_train"
   ]
  },
  {
   "cell_type": "code",
   "execution_count": 219,
   "metadata": {},
   "outputs": [
    {
     "data": {
      "text/plain": [
       "array([[ 0.8298822 , -1.11983321, -0.47075147, ..., -0.28946279,\n",
       "         0.79381168, -0.66909533],\n",
       "       [ 0.8298822 , -0.30824665,  6.5979457 , ...,  3.45467547,\n",
       "        -1.25974463, -0.66909533],\n",
       "       [-1.59060754,  0.50333991,  0.41283567, ..., -0.28946279,\n",
       "        -1.25974463,  1.49455534],\n",
       "       ...,\n",
       "       [-1.59060754,  0.7984623 , -0.47075147, ..., -0.28946279,\n",
       "         0.79381168, -0.66909533],\n",
       "       [ 0.8298822 , -0.52958844, -0.47075147, ..., -0.28946279,\n",
       "         0.79381168, -0.66909533],\n",
       "       [-1.59060754,  1.46248766,  0.41283567, ..., -0.28946279,\n",
       "        -1.25974463,  1.49455534]])"
      ]
     },
     "execution_count": 219,
     "metadata": {},
     "output_type": "execute_result"
    }
   ],
   "source": [
    "X_test"
   ]
  },
  {
   "cell_type": "code",
   "execution_count": 220,
   "metadata": {},
   "outputs": [
    {
     "data": {
      "text/plain": [
       "array([[ 0.8298822 ,  0.39266901, -0.47075147, ..., -0.28946279,\n",
       "         0.79381168, -0.66909533],\n",
       "       [ 0.8298822 ,  1.31492647,  0.41283567, ..., -0.28946279,\n",
       "        -1.25974463,  1.49455534],\n",
       "       [-0.38036267,  2.42163542, -0.47075147, ..., -0.28946279,\n",
       "         0.79381168, -0.66909533],\n",
       "       ...,\n",
       "       [ 0.8298822 ,  0.6877914 , -0.47075147, ..., -0.28946279,\n",
       "         0.79381168, -0.66909533],\n",
       "       [ 0.8298822 , -0.30824665, -0.47075147, ..., -0.28946279,\n",
       "         0.79381168, -0.66909533],\n",
       "       [ 0.8298822 , -0.30824665,  0.41283567, ..., -0.28946279,\n",
       "        -1.25974463,  1.49455534]])"
      ]
     },
     "execution_count": 220,
     "metadata": {},
     "output_type": "execute_result"
    }
   ],
   "source": [
    "X_test_kaggle"
   ]
  },
  {
   "cell_type": "code",
   "execution_count": null,
   "metadata": {},
   "outputs": [],
   "source": []
  },
  {
   "cell_type": "markdown",
   "metadata": {},
   "source": [
    "### 4.2 Create Basic SVM Model"
   ]
  },
  {
   "cell_type": "code",
   "execution_count": 221,
   "metadata": {},
   "outputs": [],
   "source": [
    "from sklearn.svm import SVC"
   ]
  },
  {
   "cell_type": "code",
   "execution_count": 222,
   "metadata": {},
   "outputs": [],
   "source": [
    "model = SVC()"
   ]
  },
  {
   "cell_type": "code",
   "execution_count": 223,
   "metadata": {},
   "outputs": [
    {
     "data": {
      "text/plain": [
       "SVC(C=1.0, break_ties=False, cache_size=200, class_weight=None, coef0=0.0,\n",
       "    decision_function_shape='ovr', degree=3, gamma='scale', kernel='rbf',\n",
       "    max_iter=-1, probability=False, random_state=None, shrinking=True,\n",
       "    tol=0.001, verbose=False)"
      ]
     },
     "execution_count": 223,
     "metadata": {},
     "output_type": "execute_result"
    }
   ],
   "source": [
    "model.fit(X_train, y_train)"
   ]
  },
  {
   "cell_type": "code",
   "execution_count": 147,
   "metadata": {},
   "outputs": [],
   "source": [
    "predictions = model.predict(X_test)"
   ]
  },
  {
   "cell_type": "code",
   "execution_count": null,
   "metadata": {},
   "outputs": [],
   "source": []
  },
  {
   "cell_type": "markdown",
   "metadata": {},
   "source": [
    "### 4.3 Evaluate Basic Model Performance"
   ]
  },
  {
   "cell_type": "code",
   "execution_count": 93,
   "metadata": {},
   "outputs": [],
   "source": [
    "from sklearn.metrics import classification_report, confusion_matrix"
   ]
  },
  {
   "cell_type": "code",
   "execution_count": 94,
   "metadata": {},
   "outputs": [
    {
     "name": "stdout",
     "output_type": "stream",
     "text": [
      "              precision    recall  f1-score   support\n",
      "\n",
      "           0       0.81      0.86      0.83       174\n",
      "           1       0.77      0.70      0.73       120\n",
      "\n",
      "    accuracy                           0.79       294\n",
      "   macro avg       0.79      0.78      0.78       294\n",
      "weighted avg       0.79      0.79      0.79       294\n",
      "\n"
     ]
    }
   ],
   "source": [
    "print(classification_report(y_test,predictions))"
   ]
  },
  {
   "cell_type": "code",
   "execution_count": 97,
   "metadata": {},
   "outputs": [
    {
     "name": "stdout",
     "output_type": "stream",
     "text": [
      "[[149  25]\n",
      " [ 36  84]]\n"
     ]
    }
   ],
   "source": [
    "print(confusion_matrix(y_test,predictions))"
   ]
  },
  {
   "cell_type": "markdown",
   "metadata": {},
   "source": [
    "### 4.4 Create GridSearch SVM Model"
   ]
  },
  {
   "cell_type": "code",
   "execution_count": 224,
   "metadata": {},
   "outputs": [],
   "source": [
    "from sklearn.model_selection import GridSearchCV,StratifiedShuffleSplit"
   ]
  },
  {
   "cell_type": "code",
   "execution_count": 225,
   "metadata": {},
   "outputs": [],
   "source": [
    "param_grid = {'C': [0.001, 0.01, 0.1, 1,1.5,2,2.5,3,4,5, 10], 'gamma': [0.0001,0.001, 0.01, 0.1, 1]}"
   ]
  },
  {
   "cell_type": "code",
   "execution_count": 226,
   "metadata": {},
   "outputs": [
    {
     "name": "stdout",
     "output_type": "stream",
     "text": [
      "Fitting 10 folds for each of 55 candidates, totalling 550 fits\n",
      "[CV] C=0.001, gamma=0.0001 ...........................................\n"
     ]
    },
    {
     "name": "stderr",
     "output_type": "stream",
     "text": [
      "[Parallel(n_jobs=1)]: Using backend SequentialBackend with 1 concurrent workers.\n"
     ]
    },
    {
     "name": "stdout",
     "output_type": "stream",
     "text": [
      "[CV] ............... C=0.001, gamma=0.0001, score=0.618, total=   0.3s\n",
      "[CV] C=0.001, gamma=0.0001 ...........................................\n"
     ]
    },
    {
     "name": "stderr",
     "output_type": "stream",
     "text": [
      "[Parallel(n_jobs=1)]: Done   1 out of   1 | elapsed:    0.2s remaining:    0.0s\n"
     ]
    },
    {
     "name": "stdout",
     "output_type": "stream",
     "text": [
      "[CV] ............... C=0.001, gamma=0.0001, score=0.618, total=   0.3s\n",
      "[CV] C=0.001, gamma=0.0001 ...........................................\n"
     ]
    },
    {
     "name": "stderr",
     "output_type": "stream",
     "text": [
      "[Parallel(n_jobs=1)]: Done   2 out of   2 | elapsed:    0.5s remaining:    0.0s\n"
     ]
    },
    {
     "name": "stdout",
     "output_type": "stream",
     "text": [
      "[CV] ............... C=0.001, gamma=0.0001, score=0.618, total=   0.3s\n",
      "[CV] C=0.001, gamma=0.0001 ...........................................\n",
      "[CV] ............... C=0.001, gamma=0.0001, score=0.618, total=   0.3s\n",
      "[CV] C=0.001, gamma=0.0001 ...........................................\n",
      "[CV] ............... C=0.001, gamma=0.0001, score=0.618, total=   0.3s\n",
      "[CV] C=0.001, gamma=0.0001 ...........................................\n",
      "[CV] ............... C=0.001, gamma=0.0001, score=0.618, total=   0.2s\n",
      "[CV] C=0.001, gamma=0.0001 ...........................................\n",
      "[CV] ............... C=0.001, gamma=0.0001, score=0.618, total=   0.2s\n",
      "[CV] C=0.001, gamma=0.0001 ...........................................\n",
      "[CV] ............... C=0.001, gamma=0.0001, score=0.618, total=   0.2s\n",
      "[CV] C=0.001, gamma=0.0001 ...........................................\n",
      "[CV] ............... C=0.001, gamma=0.0001, score=0.618, total=   0.2s\n",
      "[CV] C=0.001, gamma=0.0001 ...........................................\n",
      "[CV] ............... C=0.001, gamma=0.0001, score=0.618, total=   0.2s\n",
      "[CV] C=0.001, gamma=0.001 ............................................\n",
      "[CV] ................ C=0.001, gamma=0.001, score=0.618, total=   0.2s\n",
      "[CV] C=0.001, gamma=0.001 ............................................\n",
      "[CV] ................ C=0.001, gamma=0.001, score=0.618, total=   0.2s\n",
      "[CV] C=0.001, gamma=0.001 ............................................\n",
      "[CV] ................ C=0.001, gamma=0.001, score=0.618, total=   0.2s\n",
      "[CV] C=0.001, gamma=0.001 ............................................\n",
      "[CV] ................ C=0.001, gamma=0.001, score=0.618, total=   0.2s\n",
      "[CV] C=0.001, gamma=0.001 ............................................\n",
      "[CV] ................ C=0.001, gamma=0.001, score=0.618, total=   0.2s\n",
      "[CV] C=0.001, gamma=0.001 ............................................\n",
      "[CV] ................ C=0.001, gamma=0.001, score=0.618, total=   0.2s\n",
      "[CV] C=0.001, gamma=0.001 ............................................\n",
      "[CV] ................ C=0.001, gamma=0.001, score=0.618, total=   0.2s\n",
      "[CV] C=0.001, gamma=0.001 ............................................\n",
      "[CV] ................ C=0.001, gamma=0.001, score=0.618, total=   0.2s\n",
      "[CV] C=0.001, gamma=0.001 ............................................\n",
      "[CV] ................ C=0.001, gamma=0.001, score=0.618, total=   0.2s\n",
      "[CV] C=0.001, gamma=0.001 ............................................\n",
      "[CV] ................ C=0.001, gamma=0.001, score=0.618, total=   0.2s\n",
      "[CV] C=0.001, gamma=0.01 .............................................\n",
      "[CV] ................. C=0.001, gamma=0.01, score=0.618, total=   0.2s\n",
      "[CV] C=0.001, gamma=0.01 .............................................\n",
      "[CV] ................. C=0.001, gamma=0.01, score=0.618, total=   0.2s\n",
      "[CV] C=0.001, gamma=0.01 .............................................\n",
      "[CV] ................. C=0.001, gamma=0.01, score=0.618, total=   0.2s\n",
      "[CV] C=0.001, gamma=0.01 .............................................\n",
      "[CV] ................. C=0.001, gamma=0.01, score=0.618, total=   0.2s\n",
      "[CV] C=0.001, gamma=0.01 .............................................\n",
      "[CV] ................. C=0.001, gamma=0.01, score=0.618, total=   0.2s\n",
      "[CV] C=0.001, gamma=0.01 .............................................\n",
      "[CV] ................. C=0.001, gamma=0.01, score=0.618, total=   0.2s\n",
      "[CV] C=0.001, gamma=0.01 .............................................\n",
      "[CV] ................. C=0.001, gamma=0.01, score=0.618, total=   0.2s\n",
      "[CV] C=0.001, gamma=0.01 .............................................\n",
      "[CV] ................. C=0.001, gamma=0.01, score=0.618, total=   0.2s\n",
      "[CV] C=0.001, gamma=0.01 .............................................\n",
      "[CV] ................. C=0.001, gamma=0.01, score=0.618, total=   0.2s\n",
      "[CV] C=0.001, gamma=0.01 .............................................\n",
      "[CV] ................. C=0.001, gamma=0.01, score=0.618, total=   0.2s\n",
      "[CV] C=0.001, gamma=0.1 ..............................................\n",
      "[CV] .................. C=0.001, gamma=0.1, score=0.618, total=   0.2s\n",
      "[CV] C=0.001, gamma=0.1 ..............................................\n",
      "[CV] .................. C=0.001, gamma=0.1, score=0.618, total=   0.2s\n",
      "[CV] C=0.001, gamma=0.1 ..............................................\n",
      "[CV] .................. C=0.001, gamma=0.1, score=0.618, total=   0.2s\n",
      "[CV] C=0.001, gamma=0.1 ..............................................\n",
      "[CV] .................. C=0.001, gamma=0.1, score=0.618, total=   0.2s\n",
      "[CV] C=0.001, gamma=0.1 ..............................................\n",
      "[CV] .................. C=0.001, gamma=0.1, score=0.618, total=   0.2s\n",
      "[CV] C=0.001, gamma=0.1 ..............................................\n",
      "[CV] .................. C=0.001, gamma=0.1, score=0.618, total=   0.2s\n",
      "[CV] C=0.001, gamma=0.1 ..............................................\n",
      "[CV] .................. C=0.001, gamma=0.1, score=0.618, total=   0.2s\n",
      "[CV] C=0.001, gamma=0.1 ..............................................\n",
      "[CV] .................. C=0.001, gamma=0.1, score=0.618, total=   0.2s\n",
      "[CV] C=0.001, gamma=0.1 ..............................................\n",
      "[CV] .................. C=0.001, gamma=0.1, score=0.618, total=   0.2s\n",
      "[CV] C=0.001, gamma=0.1 ..............................................\n",
      "[CV] .................. C=0.001, gamma=0.1, score=0.618, total=   0.2s\n",
      "[CV] C=0.001, gamma=1 ................................................\n",
      "[CV] .................... C=0.001, gamma=1, score=0.618, total=   0.3s\n",
      "[CV] C=0.001, gamma=1 ................................................\n",
      "[CV] .................... C=0.001, gamma=1, score=0.618, total=   0.3s\n",
      "[CV] C=0.001, gamma=1 ................................................\n",
      "[CV] .................... C=0.001, gamma=1, score=0.618, total=   0.3s\n",
      "[CV] C=0.001, gamma=1 ................................................\n",
      "[CV] .................... C=0.001, gamma=1, score=0.618, total=   0.3s\n",
      "[CV] C=0.001, gamma=1 ................................................\n",
      "[CV] .................... C=0.001, gamma=1, score=0.618, total=   0.3s\n",
      "[CV] C=0.001, gamma=1 ................................................\n",
      "[CV] .................... C=0.001, gamma=1, score=0.618, total=   0.3s\n",
      "[CV] C=0.001, gamma=1 ................................................\n",
      "[CV] .................... C=0.001, gamma=1, score=0.618, total=   0.4s\n",
      "[CV] C=0.001, gamma=1 ................................................\n",
      "[CV] .................... C=0.001, gamma=1, score=0.618, total=   0.7s\n",
      "[CV] C=0.001, gamma=1 ................................................\n",
      "[CV] .................... C=0.001, gamma=1, score=0.618, total=   0.5s\n",
      "[CV] C=0.001, gamma=1 ................................................\n",
      "[CV] .................... C=0.001, gamma=1, score=0.618, total=   0.5s\n",
      "[CV] C=0.01, gamma=0.0001 ............................................\n",
      "[CV] ................ C=0.01, gamma=0.0001, score=0.618, total=   0.3s\n",
      "[CV] C=0.01, gamma=0.0001 ............................................\n",
      "[CV] ................ C=0.01, gamma=0.0001, score=0.618, total=   0.3s\n",
      "[CV] C=0.01, gamma=0.0001 ............................................\n",
      "[CV] ................ C=0.01, gamma=0.0001, score=0.618, total=   0.2s\n",
      "[CV] C=0.01, gamma=0.0001 ............................................\n",
      "[CV] ................ C=0.01, gamma=0.0001, score=0.618, total=   0.2s\n",
      "[CV] C=0.01, gamma=0.0001 ............................................\n",
      "[CV] ................ C=0.01, gamma=0.0001, score=0.618, total=   0.2s\n",
      "[CV] C=0.01, gamma=0.0001 ............................................\n",
      "[CV] ................ C=0.01, gamma=0.0001, score=0.618, total=   0.2s\n",
      "[CV] C=0.01, gamma=0.0001 ............................................\n",
      "[CV] ................ C=0.01, gamma=0.0001, score=0.618, total=   0.2s\n",
      "[CV] C=0.01, gamma=0.0001 ............................................\n",
      "[CV] ................ C=0.01, gamma=0.0001, score=0.618, total=   0.2s\n",
      "[CV] C=0.01, gamma=0.0001 ............................................\n",
      "[CV] ................ C=0.01, gamma=0.0001, score=0.618, total=   0.2s\n",
      "[CV] C=0.01, gamma=0.0001 ............................................\n",
      "[CV] ................ C=0.01, gamma=0.0001, score=0.618, total=   0.2s\n",
      "[CV] C=0.01, gamma=0.001 .............................................\n"
     ]
    },
    {
     "name": "stdout",
     "output_type": "stream",
     "text": [
      "[CV] ................. C=0.01, gamma=0.001, score=0.618, total=   0.2s\n",
      "[CV] C=0.01, gamma=0.001 .............................................\n",
      "[CV] ................. C=0.01, gamma=0.001, score=0.618, total=   0.2s\n",
      "[CV] C=0.01, gamma=0.001 .............................................\n",
      "[CV] ................. C=0.01, gamma=0.001, score=0.618, total=   0.2s\n",
      "[CV] C=0.01, gamma=0.001 .............................................\n",
      "[CV] ................. C=0.01, gamma=0.001, score=0.618, total=   0.2s\n",
      "[CV] C=0.01, gamma=0.001 .............................................\n",
      "[CV] ................. C=0.01, gamma=0.001, score=0.618, total=   0.2s\n",
      "[CV] C=0.01, gamma=0.001 .............................................\n",
      "[CV] ................. C=0.01, gamma=0.001, score=0.618, total=   0.2s\n",
      "[CV] C=0.01, gamma=0.001 .............................................\n",
      "[CV] ................. C=0.01, gamma=0.001, score=0.618, total=   0.2s\n",
      "[CV] C=0.01, gamma=0.001 .............................................\n",
      "[CV] ................. C=0.01, gamma=0.001, score=0.618, total=   0.2s\n",
      "[CV] C=0.01, gamma=0.001 .............................................\n",
      "[CV] ................. C=0.01, gamma=0.001, score=0.618, total=   0.2s\n",
      "[CV] C=0.01, gamma=0.001 .............................................\n",
      "[CV] ................. C=0.01, gamma=0.001, score=0.618, total=   0.2s\n",
      "[CV] C=0.01, gamma=0.01 ..............................................\n",
      "[CV] .................. C=0.01, gamma=0.01, score=0.618, total=   0.2s\n",
      "[CV] C=0.01, gamma=0.01 ..............................................\n",
      "[CV] .................. C=0.01, gamma=0.01, score=0.618, total=   0.2s\n",
      "[CV] C=0.01, gamma=0.01 ..............................................\n",
      "[CV] .................. C=0.01, gamma=0.01, score=0.618, total=   0.3s\n",
      "[CV] C=0.01, gamma=0.01 ..............................................\n",
      "[CV] .................. C=0.01, gamma=0.01, score=0.618, total=   0.3s\n",
      "[CV] C=0.01, gamma=0.01 ..............................................\n",
      "[CV] .................. C=0.01, gamma=0.01, score=0.618, total=   0.3s\n",
      "[CV] C=0.01, gamma=0.01 ..............................................\n",
      "[CV] .................. C=0.01, gamma=0.01, score=0.618, total=   0.3s\n",
      "[CV] C=0.01, gamma=0.01 ..............................................\n",
      "[CV] .................. C=0.01, gamma=0.01, score=0.618, total=   0.3s\n",
      "[CV] C=0.01, gamma=0.01 ..............................................\n",
      "[CV] .................. C=0.01, gamma=0.01, score=0.618, total=   0.3s\n",
      "[CV] C=0.01, gamma=0.01 ..............................................\n",
      "[CV] .................. C=0.01, gamma=0.01, score=0.618, total=   0.3s\n",
      "[CV] C=0.01, gamma=0.01 ..............................................\n",
      "[CV] .................. C=0.01, gamma=0.01, score=0.618, total=   0.3s\n",
      "[CV] C=0.01, gamma=0.1 ...............................................\n",
      "[CV] ................... C=0.01, gamma=0.1, score=0.618, total=   0.4s\n",
      "[CV] C=0.01, gamma=0.1 ...............................................\n",
      "[CV] ................... C=0.01, gamma=0.1, score=0.618, total=   0.4s\n",
      "[CV] C=0.01, gamma=0.1 ...............................................\n",
      "[CV] ................... C=0.01, gamma=0.1, score=0.618, total=   0.5s\n",
      "[CV] C=0.01, gamma=0.1 ...............................................\n",
      "[CV] ................... C=0.01, gamma=0.1, score=0.618, total=   0.5s\n",
      "[CV] C=0.01, gamma=0.1 ...............................................\n",
      "[CV] ................... C=0.01, gamma=0.1, score=0.618, total=   0.4s\n",
      "[CV] C=0.01, gamma=0.1 ...............................................\n",
      "[CV] ................... C=0.01, gamma=0.1, score=0.618, total=   0.4s\n",
      "[CV] C=0.01, gamma=0.1 ...............................................\n",
      "[CV] ................... C=0.01, gamma=0.1, score=0.618, total=   0.4s\n",
      "[CV] C=0.01, gamma=0.1 ...............................................\n",
      "[CV] ................... C=0.01, gamma=0.1, score=0.618, total=   0.4s\n",
      "[CV] C=0.01, gamma=0.1 ...............................................\n",
      "[CV] ................... C=0.01, gamma=0.1, score=0.618, total=   0.4s\n",
      "[CV] C=0.01, gamma=0.1 ...............................................\n",
      "[CV] ................... C=0.01, gamma=0.1, score=0.618, total=   0.4s\n",
      "[CV] C=0.01, gamma=1 .................................................\n",
      "[CV] ..................... C=0.01, gamma=1, score=0.618, total=   0.5s\n",
      "[CV] C=0.01, gamma=1 .................................................\n",
      "[CV] ..................... C=0.01, gamma=1, score=0.618, total=   0.4s\n",
      "[CV] C=0.01, gamma=1 .................................................\n",
      "[CV] ..................... C=0.01, gamma=1, score=0.618, total=   0.4s\n",
      "[CV] C=0.01, gamma=1 .................................................\n",
      "[CV] ..................... C=0.01, gamma=1, score=0.618, total=   0.4s\n",
      "[CV] C=0.01, gamma=1 .................................................\n",
      "[CV] ..................... C=0.01, gamma=1, score=0.618, total=   0.4s\n",
      "[CV] C=0.01, gamma=1 .................................................\n",
      "[CV] ..................... C=0.01, gamma=1, score=0.618, total=   0.4s\n",
      "[CV] C=0.01, gamma=1 .................................................\n",
      "[CV] ..................... C=0.01, gamma=1, score=0.618, total=   0.4s\n",
      "[CV] C=0.01, gamma=1 .................................................\n",
      "[CV] ..................... C=0.01, gamma=1, score=0.618, total=   0.4s\n",
      "[CV] C=0.01, gamma=1 .................................................\n",
      "[CV] ..................... C=0.01, gamma=1, score=0.618, total=   0.4s\n",
      "[CV] C=0.01, gamma=1 .................................................\n",
      "[CV] ..................... C=0.01, gamma=1, score=0.618, total=   0.3s\n",
      "[CV] C=0.1, gamma=0.0001 .............................................\n",
      "[CV] ................. C=0.1, gamma=0.0001, score=0.655, total=   0.2s\n",
      "[CV] C=0.1, gamma=0.0001 .............................................\n",
      "[CV] ................. C=0.1, gamma=0.0001, score=0.637, total=   0.2s\n",
      "[CV] C=0.1, gamma=0.0001 .............................................\n",
      "[CV] ................. C=0.1, gamma=0.0001, score=0.655, total=   0.2s\n",
      "[CV] C=0.1, gamma=0.0001 .............................................\n",
      "[CV] ................. C=0.1, gamma=0.0001, score=0.644, total=   0.2s\n",
      "[CV] C=0.1, gamma=0.0001 .............................................\n",
      "[CV] ................. C=0.1, gamma=0.0001, score=0.618, total=   0.2s\n",
      "[CV] C=0.1, gamma=0.0001 .............................................\n",
      "[CV] ................. C=0.1, gamma=0.0001, score=0.629, total=   0.2s\n",
      "[CV] C=0.1, gamma=0.0001 .............................................\n",
      "[CV] ................. C=0.1, gamma=0.0001, score=0.652, total=   0.2s\n",
      "[CV] C=0.1, gamma=0.0001 .............................................\n",
      "[CV] ................. C=0.1, gamma=0.0001, score=0.648, total=   0.2s\n",
      "[CV] C=0.1, gamma=0.0001 .............................................\n",
      "[CV] ................. C=0.1, gamma=0.0001, score=0.648, total=   0.2s\n",
      "[CV] C=0.1, gamma=0.0001 .............................................\n",
      "[CV] ................. C=0.1, gamma=0.0001, score=0.644, total=   0.2s\n",
      "[CV] C=0.1, gamma=0.001 ..............................................\n",
      "[CV] .................. C=0.1, gamma=0.001, score=0.685, total=   0.2s\n",
      "[CV] C=0.1, gamma=0.001 ..............................................\n",
      "[CV] .................. C=0.1, gamma=0.001, score=0.663, total=   0.2s\n",
      "[CV] C=0.1, gamma=0.001 ..............................................\n",
      "[CV] .................. C=0.1, gamma=0.001, score=0.704, total=   0.1s\n",
      "[CV] C=0.1, gamma=0.001 ..............................................\n",
      "[CV] .................. C=0.1, gamma=0.001, score=0.663, total=   0.3s\n",
      "[CV] C=0.1, gamma=0.001 ..............................................\n",
      "[CV] .................. C=0.1, gamma=0.001, score=0.640, total=   0.3s\n",
      "[CV] C=0.1, gamma=0.001 ..............................................\n",
      "[CV] .................. C=0.1, gamma=0.001, score=0.659, total=   0.3s\n",
      "[CV] C=0.1, gamma=0.001 ..............................................\n",
      "[CV] .................. C=0.1, gamma=0.001, score=0.670, total=   0.3s\n",
      "[CV] C=0.1, gamma=0.001 ..............................................\n",
      "[CV] .................. C=0.1, gamma=0.001, score=0.678, total=   0.3s\n",
      "[CV] C=0.1, gamma=0.001 ..............................................\n"
     ]
    },
    {
     "name": "stdout",
     "output_type": "stream",
     "text": [
      "[CV] .................. C=0.1, gamma=0.001, score=0.697, total=   0.3s\n",
      "[CV] C=0.1, gamma=0.001 ..............................................\n",
      "[CV] .................. C=0.1, gamma=0.001, score=0.670, total=   0.3s\n",
      "[CV] C=0.1, gamma=0.01 ...............................................\n",
      "[CV] ................... C=0.1, gamma=0.01, score=0.659, total=   0.3s\n",
      "[CV] C=0.1, gamma=0.01 ...............................................\n",
      "[CV] ................... C=0.1, gamma=0.01, score=0.682, total=   0.3s\n",
      "[CV] C=0.1, gamma=0.01 ...............................................\n",
      "[CV] ................... C=0.1, gamma=0.01, score=0.685, total=   0.3s\n",
      "[CV] C=0.1, gamma=0.01 ...............................................\n",
      "[CV] ................... C=0.1, gamma=0.01, score=0.689, total=   0.3s\n",
      "[CV] C=0.1, gamma=0.01 ...............................................\n",
      "[CV] ................... C=0.1, gamma=0.01, score=0.659, total=   0.3s\n",
      "[CV] C=0.1, gamma=0.01 ...............................................\n",
      "[CV] ................... C=0.1, gamma=0.01, score=0.689, total=   0.3s\n",
      "[CV] C=0.1, gamma=0.01 ...............................................\n",
      "[CV] ................... C=0.1, gamma=0.01, score=0.693, total=   0.3s\n",
      "[CV] C=0.1, gamma=0.01 ...............................................\n",
      "[CV] ................... C=0.1, gamma=0.01, score=0.678, total=   0.3s\n",
      "[CV] C=0.1, gamma=0.01 ...............................................\n",
      "[CV] ................... C=0.1, gamma=0.01, score=0.659, total=   0.3s\n",
      "[CV] C=0.1, gamma=0.01 ...............................................\n",
      "[CV] ................... C=0.1, gamma=0.01, score=0.697, total=   0.3s\n",
      "[CV] C=0.1, gamma=0.1 ................................................\n",
      "[CV] .................... C=0.1, gamma=0.1, score=0.618, total=   0.4s\n",
      "[CV] C=0.1, gamma=0.1 ................................................\n",
      "[CV] .................... C=0.1, gamma=0.1, score=0.618, total=   0.4s\n",
      "[CV] C=0.1, gamma=0.1 ................................................\n",
      "[CV] .................... C=0.1, gamma=0.1, score=0.618, total=   0.4s\n",
      "[CV] C=0.1, gamma=0.1 ................................................\n",
      "[CV] .................... C=0.1, gamma=0.1, score=0.618, total=   0.5s\n",
      "[CV] C=0.1, gamma=0.1 ................................................\n",
      "[CV] .................... C=0.1, gamma=0.1, score=0.618, total=   0.4s\n",
      "[CV] C=0.1, gamma=0.1 ................................................\n",
      "[CV] .................... C=0.1, gamma=0.1, score=0.618, total=   0.4s\n",
      "[CV] C=0.1, gamma=0.1 ................................................\n",
      "[CV] .................... C=0.1, gamma=0.1, score=0.618, total=   0.4s\n",
      "[CV] C=0.1, gamma=0.1 ................................................\n",
      "[CV] .................... C=0.1, gamma=0.1, score=0.618, total=   0.4s\n",
      "[CV] C=0.1, gamma=0.1 ................................................\n",
      "[CV] .................... C=0.1, gamma=0.1, score=0.618, total=   0.4s\n",
      "[CV] C=0.1, gamma=0.1 ................................................\n",
      "[CV] .................... C=0.1, gamma=0.1, score=0.618, total=   0.4s\n",
      "[CV] C=0.1, gamma=1 ..................................................\n",
      "[CV] ...................... C=0.1, gamma=1, score=0.618, total=   0.6s\n",
      "[CV] C=0.1, gamma=1 ..................................................\n",
      "[CV] ...................... C=0.1, gamma=1, score=0.618, total=   0.5s\n",
      "[CV] C=0.1, gamma=1 ..................................................\n",
      "[CV] ...................... C=0.1, gamma=1, score=0.618, total=   0.5s\n",
      "[CV] C=0.1, gamma=1 ..................................................\n",
      "[CV] ...................... C=0.1, gamma=1, score=0.625, total=   0.6s\n",
      "[CV] C=0.1, gamma=1 ..................................................\n",
      "[CV] ...................... C=0.1, gamma=1, score=0.618, total=   0.7s\n",
      "[CV] C=0.1, gamma=1 ..................................................\n",
      "[CV] ...................... C=0.1, gamma=1, score=0.618, total=   0.6s\n",
      "[CV] C=0.1, gamma=1 ..................................................\n",
      "[CV] ...................... C=0.1, gamma=1, score=0.618, total=   0.6s\n",
      "[CV] C=0.1, gamma=1 ..................................................\n",
      "[CV] ...................... C=0.1, gamma=1, score=0.618, total=   0.6s\n",
      "[CV] C=0.1, gamma=1 ..................................................\n",
      "[CV] ...................... C=0.1, gamma=1, score=0.618, total=   0.5s\n",
      "[CV] C=0.1, gamma=1 ..................................................\n",
      "[CV] ...................... C=0.1, gamma=1, score=0.618, total=   0.5s\n",
      "[CV] C=1, gamma=0.0001 ...............................................\n",
      "[CV] ................... C=1, gamma=0.0001, score=0.693, total=   0.3s\n",
      "[CV] C=1, gamma=0.0001 ...............................................\n",
      "[CV] ................... C=1, gamma=0.0001, score=0.640, total=   0.3s\n",
      "[CV] C=1, gamma=0.0001 ...............................................\n",
      "[CV] ................... C=1, gamma=0.0001, score=0.685, total=   0.3s\n",
      "[CV] C=1, gamma=0.0001 ...............................................\n",
      "[CV] ................... C=1, gamma=0.0001, score=0.670, total=   0.3s\n",
      "[CV] C=1, gamma=0.0001 ...............................................\n",
      "[CV] ................... C=1, gamma=0.0001, score=0.659, total=   0.3s\n",
      "[CV] C=1, gamma=0.0001 ...............................................\n",
      "[CV] ................... C=1, gamma=0.0001, score=0.648, total=   0.3s\n",
      "[CV] C=1, gamma=0.0001 ...............................................\n",
      "[CV] ................... C=1, gamma=0.0001, score=0.670, total=   0.3s\n",
      "[CV] C=1, gamma=0.0001 ...............................................\n",
      "[CV] ................... C=1, gamma=0.0001, score=0.655, total=   0.2s\n",
      "[CV] C=1, gamma=0.0001 ...............................................\n",
      "[CV] ................... C=1, gamma=0.0001, score=0.667, total=   0.3s\n",
      "[CV] C=1, gamma=0.0001 ...............................................\n",
      "[CV] ................... C=1, gamma=0.0001, score=0.652, total=   0.3s\n",
      "[CV] C=1, gamma=0.001 ................................................\n",
      "[CV] .................... C=1, gamma=0.001, score=0.712, total=   0.2s\n",
      "[CV] C=1, gamma=0.001 ................................................\n",
      "[CV] .................... C=1, gamma=0.001, score=0.689, total=   0.2s\n",
      "[CV] C=1, gamma=0.001 ................................................\n",
      "[CV] .................... C=1, gamma=0.001, score=0.715, total=   0.2s\n",
      "[CV] C=1, gamma=0.001 ................................................\n",
      "[CV] .................... C=1, gamma=0.001, score=0.712, total=   0.2s\n",
      "[CV] C=1, gamma=0.001 ................................................\n",
      "[CV] .................... C=1, gamma=0.001, score=0.663, total=   0.2s\n",
      "[CV] C=1, gamma=0.001 ................................................\n",
      "[CV] .................... C=1, gamma=0.001, score=0.697, total=   0.2s\n",
      "[CV] C=1, gamma=0.001 ................................................\n",
      "[CV] .................... C=1, gamma=0.001, score=0.719, total=   0.2s\n",
      "[CV] C=1, gamma=0.001 ................................................\n",
      "[CV] .................... C=1, gamma=0.001, score=0.685, total=   0.2s\n",
      "[CV] C=1, gamma=0.001 ................................................\n",
      "[CV] .................... C=1, gamma=0.001, score=0.715, total=   0.2s\n",
      "[CV] C=1, gamma=0.001 ................................................\n",
      "[CV] .................... C=1, gamma=0.001, score=0.708, total=   0.2s\n",
      "[CV] C=1, gamma=0.01 .................................................\n",
      "[CV] ..................... C=1, gamma=0.01, score=0.772, total=   0.2s\n",
      "[CV] C=1, gamma=0.01 .................................................\n",
      "[CV] ..................... C=1, gamma=0.01, score=0.742, total=   0.2s\n",
      "[CV] C=1, gamma=0.01 .................................................\n",
      "[CV] ..................... C=1, gamma=0.01, score=0.779, total=   0.2s\n",
      "[CV] C=1, gamma=0.01 .................................................\n",
      "[CV] ..................... C=1, gamma=0.01, score=0.790, total=   0.2s\n",
      "[CV] C=1, gamma=0.01 .................................................\n",
      "[CV] ..................... C=1, gamma=0.01, score=0.742, total=   0.2s\n",
      "[CV] C=1, gamma=0.01 .................................................\n",
      "[CV] ..................... C=1, gamma=0.01, score=0.775, total=   0.2s\n",
      "[CV] C=1, gamma=0.01 .................................................\n"
     ]
    },
    {
     "name": "stdout",
     "output_type": "stream",
     "text": [
      "[CV] ..................... C=1, gamma=0.01, score=0.775, total=   0.2s\n",
      "[CV] C=1, gamma=0.01 .................................................\n",
      "[CV] ..................... C=1, gamma=0.01, score=0.742, total=   0.2s\n",
      "[CV] C=1, gamma=0.01 .................................................\n",
      "[CV] ..................... C=1, gamma=0.01, score=0.779, total=   0.2s\n",
      "[CV] C=1, gamma=0.01 .................................................\n",
      "[CV] ..................... C=1, gamma=0.01, score=0.772, total=   0.2s\n",
      "[CV] C=1, gamma=0.1 ..................................................\n",
      "[CV] ...................... C=1, gamma=0.1, score=0.772, total=   0.3s\n",
      "[CV] C=1, gamma=0.1 ..................................................\n",
      "[CV] ...................... C=1, gamma=0.1, score=0.738, total=   0.3s\n",
      "[CV] C=1, gamma=0.1 ..................................................\n",
      "[CV] ...................... C=1, gamma=0.1, score=0.749, total=   0.3s\n",
      "[CV] C=1, gamma=0.1 ..................................................\n",
      "[CV] ...................... C=1, gamma=0.1, score=0.745, total=   0.3s\n",
      "[CV] C=1, gamma=0.1 ..................................................\n",
      "[CV] ...................... C=1, gamma=0.1, score=0.730, total=   0.3s\n",
      "[CV] C=1, gamma=0.1 ..................................................\n",
      "[CV] ...................... C=1, gamma=0.1, score=0.790, total=   0.3s\n",
      "[CV] C=1, gamma=0.1 ..................................................\n",
      "[CV] ...................... C=1, gamma=0.1, score=0.760, total=   0.3s\n",
      "[CV] C=1, gamma=0.1 ..................................................\n",
      "[CV] ...................... C=1, gamma=0.1, score=0.738, total=   0.3s\n",
      "[CV] C=1, gamma=0.1 ..................................................\n",
      "[CV] ...................... C=1, gamma=0.1, score=0.772, total=   0.3s\n",
      "[CV] C=1, gamma=0.1 ..................................................\n",
      "[CV] ...................... C=1, gamma=0.1, score=0.723, total=   0.3s\n",
      "[CV] C=1, gamma=1 ....................................................\n",
      "[CV] ........................ C=1, gamma=1, score=0.674, total=   0.5s\n",
      "[CV] C=1, gamma=1 ....................................................\n",
      "[CV] ........................ C=1, gamma=1, score=0.652, total=   0.7s\n",
      "[CV] C=1, gamma=1 ....................................................\n",
      "[CV] ........................ C=1, gamma=1, score=0.659, total=   0.7s\n",
      "[CV] C=1, gamma=1 ....................................................\n",
      "[CV] ........................ C=1, gamma=1, score=0.667, total=   0.6s\n",
      "[CV] C=1, gamma=1 ....................................................\n",
      "[CV] ........................ C=1, gamma=1, score=0.648, total=   0.5s\n",
      "[CV] C=1, gamma=1 ....................................................\n",
      "[CV] ........................ C=1, gamma=1, score=0.670, total=   0.5s\n",
      "[CV] C=1, gamma=1 ....................................................\n",
      "[CV] ........................ C=1, gamma=1, score=0.652, total=   0.5s\n",
      "[CV] C=1, gamma=1 ....................................................\n",
      "[CV] ........................ C=1, gamma=1, score=0.648, total=   0.4s\n",
      "[CV] C=1, gamma=1 ....................................................\n",
      "[CV] ........................ C=1, gamma=1, score=0.674, total=   0.4s\n",
      "[CV] C=1, gamma=1 ....................................................\n",
      "[CV] ........................ C=1, gamma=1, score=0.648, total=   0.4s\n",
      "[CV] C=1.5, gamma=0.0001 .............................................\n",
      "[CV] ................. C=1.5, gamma=0.0001, score=0.693, total=   0.2s\n",
      "[CV] C=1.5, gamma=0.0001 .............................................\n",
      "[CV] ................. C=1.5, gamma=0.0001, score=0.648, total=   0.2s\n",
      "[CV] C=1.5, gamma=0.0001 .............................................\n",
      "[CV] ................. C=1.5, gamma=0.0001, score=0.697, total=   0.2s\n",
      "[CV] C=1.5, gamma=0.0001 .............................................\n",
      "[CV] ................. C=1.5, gamma=0.0001, score=0.674, total=   0.2s\n",
      "[CV] C=1.5, gamma=0.0001 .............................................\n",
      "[CV] ................. C=1.5, gamma=0.0001, score=0.670, total=   0.2s\n",
      "[CV] C=1.5, gamma=0.0001 .............................................\n",
      "[CV] ................. C=1.5, gamma=0.0001, score=0.648, total=   0.2s\n",
      "[CV] C=1.5, gamma=0.0001 .............................................\n",
      "[CV] ................. C=1.5, gamma=0.0001, score=0.670, total=   0.2s\n",
      "[CV] C=1.5, gamma=0.0001 .............................................\n",
      "[CV] ................. C=1.5, gamma=0.0001, score=0.659, total=   0.2s\n",
      "[CV] C=1.5, gamma=0.0001 .............................................\n",
      "[CV] ................. C=1.5, gamma=0.0001, score=0.674, total=   0.2s\n",
      "[CV] C=1.5, gamma=0.0001 .............................................\n",
      "[CV] ................. C=1.5, gamma=0.0001, score=0.655, total=   0.2s\n",
      "[CV] C=1.5, gamma=0.001 ..............................................\n",
      "[CV] .................. C=1.5, gamma=0.001, score=0.715, total=   0.2s\n",
      "[CV] C=1.5, gamma=0.001 ..............................................\n",
      "[CV] .................. C=1.5, gamma=0.001, score=0.697, total=   0.2s\n",
      "[CV] C=1.5, gamma=0.001 ..............................................\n",
      "[CV] .................. C=1.5, gamma=0.001, score=0.734, total=   0.3s\n",
      "[CV] C=1.5, gamma=0.001 ..............................................\n",
      "[CV] .................. C=1.5, gamma=0.001, score=0.700, total=   0.3s\n",
      "[CV] C=1.5, gamma=0.001 ..............................................\n",
      "[CV] .................. C=1.5, gamma=0.001, score=0.670, total=   0.3s\n",
      "[CV] C=1.5, gamma=0.001 ..............................................\n",
      "[CV] .................. C=1.5, gamma=0.001, score=0.700, total=   0.3s\n",
      "[CV] C=1.5, gamma=0.001 ..............................................\n",
      "[CV] .................. C=1.5, gamma=0.001, score=0.719, total=   0.3s\n",
      "[CV] C=1.5, gamma=0.001 ..............................................\n",
      "[CV] .................. C=1.5, gamma=0.001, score=0.689, total=   0.3s\n",
      "[CV] C=1.5, gamma=0.001 ..............................................\n",
      "[CV] .................. C=1.5, gamma=0.001, score=0.712, total=   0.3s\n",
      "[CV] C=1.5, gamma=0.001 ..............................................\n",
      "[CV] .................. C=1.5, gamma=0.001, score=0.704, total=   0.2s\n",
      "[CV] C=1.5, gamma=0.01 ...............................................\n",
      "[CV] ................... C=1.5, gamma=0.01, score=0.787, total=   0.3s\n",
      "[CV] C=1.5, gamma=0.01 ...............................................\n",
      "[CV] ................... C=1.5, gamma=0.01, score=0.738, total=   0.3s\n",
      "[CV] C=1.5, gamma=0.01 ...............................................\n",
      "[CV] ................... C=1.5, gamma=0.01, score=0.779, total=   0.2s\n",
      "[CV] C=1.5, gamma=0.01 ...............................................\n",
      "[CV] ................... C=1.5, gamma=0.01, score=0.805, total=   0.2s\n",
      "[CV] C=1.5, gamma=0.01 ...............................................\n",
      "[CV] ................... C=1.5, gamma=0.01, score=0.757, total=   0.2s\n",
      "[CV] C=1.5, gamma=0.01 ...............................................\n",
      "[CV] ................... C=1.5, gamma=0.01, score=0.790, total=   0.2s\n",
      "[CV] C=1.5, gamma=0.01 ...............................................\n",
      "[CV] ................... C=1.5, gamma=0.01, score=0.794, total=   0.2s\n",
      "[CV] C=1.5, gamma=0.01 ...............................................\n",
      "[CV] ................... C=1.5, gamma=0.01, score=0.742, total=   0.2s\n",
      "[CV] C=1.5, gamma=0.01 ...............................................\n",
      "[CV] ................... C=1.5, gamma=0.01, score=0.787, total=   0.2s\n",
      "[CV] C=1.5, gamma=0.01 ...............................................\n",
      "[CV] ................... C=1.5, gamma=0.01, score=0.764, total=   0.2s\n",
      "[CV] C=1.5, gamma=0.1 ................................................\n",
      "[CV] .................... C=1.5, gamma=0.1, score=0.772, total=   0.3s\n",
      "[CV] C=1.5, gamma=0.1 ................................................\n",
      "[CV] .................... C=1.5, gamma=0.1, score=0.742, total=   0.3s\n",
      "[CV] C=1.5, gamma=0.1 ................................................\n",
      "[CV] .................... C=1.5, gamma=0.1, score=0.742, total=   0.3s\n",
      "[CV] C=1.5, gamma=0.1 ................................................\n",
      "[CV] .................... C=1.5, gamma=0.1, score=0.745, total=   0.3s\n",
      "[CV] C=1.5, gamma=0.1 ................................................\n"
     ]
    },
    {
     "name": "stdout",
     "output_type": "stream",
     "text": [
      "[CV] .................... C=1.5, gamma=0.1, score=0.727, total=   0.3s\n",
      "[CV] C=1.5, gamma=0.1 ................................................\n",
      "[CV] .................... C=1.5, gamma=0.1, score=0.775, total=   0.3s\n",
      "[CV] C=1.5, gamma=0.1 ................................................\n",
      "[CV] .................... C=1.5, gamma=0.1, score=0.760, total=   0.3s\n",
      "[CV] C=1.5, gamma=0.1 ................................................\n",
      "[CV] .................... C=1.5, gamma=0.1, score=0.723, total=   0.2s\n",
      "[CV] C=1.5, gamma=0.1 ................................................\n",
      "[CV] .................... C=1.5, gamma=0.1, score=0.768, total=   0.3s\n",
      "[CV] C=1.5, gamma=0.1 ................................................\n",
      "[CV] .................... C=1.5, gamma=0.1, score=0.715, total=   0.3s\n",
      "[CV] C=1.5, gamma=1 ..................................................\n",
      "[CV] ...................... C=1.5, gamma=1, score=0.663, total=   0.3s\n",
      "[CV] C=1.5, gamma=1 ..................................................\n",
      "[CV] ...................... C=1.5, gamma=1, score=0.663, total=   0.3s\n",
      "[CV] C=1.5, gamma=1 ..................................................\n",
      "[CV] ...................... C=1.5, gamma=1, score=0.652, total=   0.5s\n",
      "[CV] C=1.5, gamma=1 ..................................................\n",
      "[CV] ...................... C=1.5, gamma=1, score=0.670, total=   0.7s\n",
      "[CV] C=1.5, gamma=1 ..................................................\n",
      "[CV] ...................... C=1.5, gamma=1, score=0.644, total=   0.7s\n",
      "[CV] C=1.5, gamma=1 ..................................................\n",
      "[CV] ...................... C=1.5, gamma=1, score=0.678, total=   0.6s\n",
      "[CV] C=1.5, gamma=1 ..................................................\n",
      "[CV] ...................... C=1.5, gamma=1, score=0.644, total=   0.6s\n",
      "[CV] C=1.5, gamma=1 ..................................................\n",
      "[CV] ...................... C=1.5, gamma=1, score=0.648, total=   0.5s\n",
      "[CV] C=1.5, gamma=1 ..................................................\n",
      "[CV] ...................... C=1.5, gamma=1, score=0.689, total=   0.5s\n",
      "[CV] C=1.5, gamma=1 ..................................................\n",
      "[CV] ...................... C=1.5, gamma=1, score=0.655, total=   0.7s\n",
      "[CV] C=2, gamma=0.0001 ...............................................\n",
      "[CV] ................... C=2, gamma=0.0001, score=0.697, total=   0.3s\n",
      "[CV] C=2, gamma=0.0001 ...............................................\n",
      "[CV] ................... C=2, gamma=0.0001, score=0.663, total=   0.3s\n",
      "[CV] C=2, gamma=0.0001 ...............................................\n",
      "[CV] ................... C=2, gamma=0.0001, score=0.697, total=   0.3s\n",
      "[CV] C=2, gamma=0.0001 ...............................................\n",
      "[CV] ................... C=2, gamma=0.0001, score=0.682, total=   0.3s\n",
      "[CV] C=2, gamma=0.0001 ...............................................\n",
      "[CV] ................... C=2, gamma=0.0001, score=0.667, total=   0.2s\n",
      "[CV] C=2, gamma=0.0001 ...............................................\n",
      "[CV] ................... C=2, gamma=0.0001, score=0.652, total=   0.2s\n",
      "[CV] C=2, gamma=0.0001 ...............................................\n",
      "[CV] ................... C=2, gamma=0.0001, score=0.678, total=   0.2s\n",
      "[CV] C=2, gamma=0.0001 ...............................................\n",
      "[CV] ................... C=2, gamma=0.0001, score=0.663, total=   0.2s\n",
      "[CV] C=2, gamma=0.0001 ...............................................\n",
      "[CV] ................... C=2, gamma=0.0001, score=0.693, total=   0.2s\n",
      "[CV] C=2, gamma=0.0001 ...............................................\n",
      "[CV] ................... C=2, gamma=0.0001, score=0.659, total=   0.2s\n",
      "[CV] C=2, gamma=0.001 ................................................\n",
      "[CV] .................... C=2, gamma=0.001, score=0.715, total=   0.3s\n",
      "[CV] C=2, gamma=0.001 ................................................\n",
      "[CV] .................... C=2, gamma=0.001, score=0.700, total=   0.3s\n",
      "[CV] C=2, gamma=0.001 ................................................\n",
      "[CV] .................... C=2, gamma=0.001, score=0.738, total=   0.3s\n",
      "[CV] C=2, gamma=0.001 ................................................\n",
      "[CV] .................... C=2, gamma=0.001, score=0.704, total=   0.3s\n",
      "[CV] C=2, gamma=0.001 ................................................\n",
      "[CV] .................... C=2, gamma=0.001, score=0.670, total=   0.3s\n",
      "[CV] C=2, gamma=0.001 ................................................\n",
      "[CV] .................... C=2, gamma=0.001, score=0.712, total=   0.3s\n",
      "[CV] C=2, gamma=0.001 ................................................\n",
      "[CV] .................... C=2, gamma=0.001, score=0.719, total=   0.3s\n",
      "[CV] C=2, gamma=0.001 ................................................\n",
      "[CV] .................... C=2, gamma=0.001, score=0.693, total=   0.3s\n",
      "[CV] C=2, gamma=0.001 ................................................\n",
      "[CV] .................... C=2, gamma=0.001, score=0.715, total=   0.3s\n",
      "[CV] C=2, gamma=0.001 ................................................\n",
      "[CV] .................... C=2, gamma=0.001, score=0.723, total=   0.3s\n",
      "[CV] C=2, gamma=0.01 .................................................\n",
      "[CV] ..................... C=2, gamma=0.01, score=0.779, total=   0.3s\n",
      "[CV] C=2, gamma=0.01 .................................................\n",
      "[CV] ..................... C=2, gamma=0.01, score=0.745, total=   0.3s\n",
      "[CV] C=2, gamma=0.01 .................................................\n",
      "[CV] ..................... C=2, gamma=0.01, score=0.783, total=   0.3s\n",
      "[CV] C=2, gamma=0.01 .................................................\n",
      "[CV] ..................... C=2, gamma=0.01, score=0.798, total=   0.3s\n",
      "[CV] C=2, gamma=0.01 .................................................\n",
      "[CV] ..................... C=2, gamma=0.01, score=0.764, total=   0.2s\n",
      "[CV] C=2, gamma=0.01 .................................................\n",
      "[CV] ..................... C=2, gamma=0.01, score=0.787, total=   0.3s\n",
      "[CV] C=2, gamma=0.01 .................................................\n",
      "[CV] ..................... C=2, gamma=0.01, score=0.787, total=   0.2s\n",
      "[CV] C=2, gamma=0.01 .................................................\n",
      "[CV] ..................... C=2, gamma=0.01, score=0.745, total=   0.2s\n",
      "[CV] C=2, gamma=0.01 .................................................\n",
      "[CV] ..................... C=2, gamma=0.01, score=0.783, total=   0.2s\n",
      "[CV] C=2, gamma=0.01 .................................................\n",
      "[CV] ..................... C=2, gamma=0.01, score=0.764, total=   0.2s\n",
      "[CV] C=2, gamma=0.1 ..................................................\n",
      "[CV] ...................... C=2, gamma=0.1, score=0.772, total=   0.4s\n",
      "[CV] C=2, gamma=0.1 ..................................................\n",
      "[CV] ...................... C=2, gamma=0.1, score=0.727, total=   0.3s\n",
      "[CV] C=2, gamma=0.1 ..................................................\n",
      "[CV] ...................... C=2, gamma=0.1, score=0.742, total=   0.5s\n",
      "[CV] C=2, gamma=0.1 ..................................................\n",
      "[CV] ...................... C=2, gamma=0.1, score=0.760, total=   0.6s\n",
      "[CV] C=2, gamma=0.1 ..................................................\n",
      "[CV] ...................... C=2, gamma=0.1, score=0.723, total=   0.6s\n",
      "[CV] C=2, gamma=0.1 ..................................................\n",
      "[CV] ...................... C=2, gamma=0.1, score=0.772, total=   0.5s\n",
      "[CV] C=2, gamma=0.1 ..................................................\n",
      "[CV] ...................... C=2, gamma=0.1, score=0.753, total=   0.5s\n",
      "[CV] C=2, gamma=0.1 ..................................................\n",
      "[CV] ...................... C=2, gamma=0.1, score=0.742, total=   0.5s\n",
      "[CV] C=2, gamma=0.1 ..................................................\n",
      "[CV] ...................... C=2, gamma=0.1, score=0.772, total=   0.5s\n",
      "[CV] C=2, gamma=0.1 ..................................................\n",
      "[CV] ...................... C=2, gamma=0.1, score=0.704, total=   0.4s\n",
      "[CV] C=2, gamma=1 ....................................................\n",
      "[CV] ........................ C=2, gamma=1, score=0.659, total=   0.5s\n",
      "[CV] C=2, gamma=1 ....................................................\n",
      "[CV] ........................ C=2, gamma=1, score=0.667, total=   0.5s\n",
      "[CV] C=2, gamma=1 ....................................................\n"
     ]
    },
    {
     "name": "stdout",
     "output_type": "stream",
     "text": [
      "[CV] ........................ C=2, gamma=1, score=0.652, total=   0.5s\n",
      "[CV] C=2, gamma=1 ....................................................\n",
      "[CV] ........................ C=2, gamma=1, score=0.670, total=   0.6s\n",
      "[CV] C=2, gamma=1 ....................................................\n",
      "[CV] ........................ C=2, gamma=1, score=0.644, total=   0.7s\n",
      "[CV] C=2, gamma=1 ....................................................\n",
      "[CV] ........................ C=2, gamma=1, score=0.678, total=   0.7s\n",
      "[CV] C=2, gamma=1 ....................................................\n",
      "[CV] ........................ C=2, gamma=1, score=0.648, total=   0.7s\n",
      "[CV] C=2, gamma=1 ....................................................\n",
      "[CV] ........................ C=2, gamma=1, score=0.648, total=   0.7s\n",
      "[CV] C=2, gamma=1 ....................................................\n",
      "[CV] ........................ C=2, gamma=1, score=0.689, total=   0.6s\n",
      "[CV] C=2, gamma=1 ....................................................\n",
      "[CV] ........................ C=2, gamma=1, score=0.652, total=   0.6s\n",
      "[CV] C=2.5, gamma=0.0001 .............................................\n",
      "[CV] ................. C=2.5, gamma=0.0001, score=0.700, total=   0.2s\n",
      "[CV] C=2.5, gamma=0.0001 .............................................\n",
      "[CV] ................. C=2.5, gamma=0.0001, score=0.652, total=   0.2s\n",
      "[CV] C=2.5, gamma=0.0001 .............................................\n",
      "[CV] ................. C=2.5, gamma=0.0001, score=0.704, total=   0.2s\n",
      "[CV] C=2.5, gamma=0.0001 .............................................\n",
      "[CV] ................. C=2.5, gamma=0.0001, score=0.685, total=   0.2s\n",
      "[CV] C=2.5, gamma=0.0001 .............................................\n",
      "[CV] ................. C=2.5, gamma=0.0001, score=0.667, total=   0.2s\n",
      "[CV] C=2.5, gamma=0.0001 .............................................\n",
      "[CV] ................. C=2.5, gamma=0.0001, score=0.655, total=   0.2s\n",
      "[CV] C=2.5, gamma=0.0001 .............................................\n",
      "[CV] ................. C=2.5, gamma=0.0001, score=0.678, total=   0.2s\n",
      "[CV] C=2.5, gamma=0.0001 .............................................\n",
      "[CV] ................. C=2.5, gamma=0.0001, score=0.674, total=   0.2s\n",
      "[CV] C=2.5, gamma=0.0001 .............................................\n",
      "[CV] ................. C=2.5, gamma=0.0001, score=0.689, total=   0.2s\n",
      "[CV] C=2.5, gamma=0.0001 .............................................\n",
      "[CV] ................. C=2.5, gamma=0.0001, score=0.663, total=   0.2s\n",
      "[CV] C=2.5, gamma=0.001 ..............................................\n",
      "[CV] .................. C=2.5, gamma=0.001, score=0.742, total=   0.2s\n",
      "[CV] C=2.5, gamma=0.001 ..............................................\n",
      "[CV] .................. C=2.5, gamma=0.001, score=0.715, total=   0.2s\n",
      "[CV] C=2.5, gamma=0.001 ..............................................\n",
      "[CV] .................. C=2.5, gamma=0.001, score=0.753, total=   0.3s\n",
      "[CV] C=2.5, gamma=0.001 ..............................................\n",
      "[CV] .................. C=2.5, gamma=0.001, score=0.719, total=   0.3s\n",
      "[CV] C=2.5, gamma=0.001 ..............................................\n",
      "[CV] .................. C=2.5, gamma=0.001, score=0.678, total=   0.3s\n",
      "[CV] C=2.5, gamma=0.001 ..............................................\n",
      "[CV] .................. C=2.5, gamma=0.001, score=0.712, total=   0.3s\n",
      "[CV] C=2.5, gamma=0.001 ..............................................\n",
      "[CV] .................. C=2.5, gamma=0.001, score=0.738, total=   0.3s\n",
      "[CV] C=2.5, gamma=0.001 ..............................................\n",
      "[CV] .................. C=2.5, gamma=0.001, score=0.700, total=   0.3s\n",
      "[CV] C=2.5, gamma=0.001 ..............................................\n",
      "[CV] .................. C=2.5, gamma=0.001, score=0.730, total=   0.3s\n",
      "[CV] C=2.5, gamma=0.001 ..............................................\n",
      "[CV] .................. C=2.5, gamma=0.001, score=0.734, total=   0.3s\n",
      "[CV] C=2.5, gamma=0.01 ...............................................\n",
      "[CV] ................... C=2.5, gamma=0.01, score=0.779, total=   0.3s\n",
      "[CV] C=2.5, gamma=0.01 ...............................................\n",
      "[CV] ................... C=2.5, gamma=0.01, score=0.753, total=   0.3s\n",
      "[CV] C=2.5, gamma=0.01 ...............................................\n",
      "[CV] ................... C=2.5, gamma=0.01, score=0.787, total=   0.3s\n",
      "[CV] C=2.5, gamma=0.01 ...............................................\n",
      "[CV] ................... C=2.5, gamma=0.01, score=0.801, total=   0.3s\n",
      "[CV] C=2.5, gamma=0.01 ...............................................\n",
      "[CV] ................... C=2.5, gamma=0.01, score=0.764, total=   0.3s\n",
      "[CV] C=2.5, gamma=0.01 ...............................................\n",
      "[CV] ................... C=2.5, gamma=0.01, score=0.805, total=   0.2s\n",
      "[CV] C=2.5, gamma=0.01 ...............................................\n",
      "[CV] ................... C=2.5, gamma=0.01, score=0.787, total=   0.2s\n",
      "[CV] C=2.5, gamma=0.01 ...............................................\n",
      "[CV] ................... C=2.5, gamma=0.01, score=0.749, total=   0.2s\n",
      "[CV] C=2.5, gamma=0.01 ...............................................\n",
      "[CV] ................... C=2.5, gamma=0.01, score=0.779, total=   0.2s\n",
      "[CV] C=2.5, gamma=0.01 ...............................................\n",
      "[CV] ................... C=2.5, gamma=0.01, score=0.764, total=   0.2s\n",
      "[CV] C=2.5, gamma=0.1 ................................................\n",
      "[CV] .................... C=2.5, gamma=0.1, score=0.772, total=   0.4s\n",
      "[CV] C=2.5, gamma=0.1 ................................................\n",
      "[CV] .................... C=2.5, gamma=0.1, score=0.727, total=   0.4s\n",
      "[CV] C=2.5, gamma=0.1 ................................................\n",
      "[CV] .................... C=2.5, gamma=0.1, score=0.742, total=   0.6s\n",
      "[CV] C=2.5, gamma=0.1 ................................................\n",
      "[CV] .................... C=2.5, gamma=0.1, score=0.749, total=   0.6s\n",
      "[CV] C=2.5, gamma=0.1 ................................................\n",
      "[CV] .................... C=2.5, gamma=0.1, score=0.723, total=   0.6s\n",
      "[CV] C=2.5, gamma=0.1 ................................................\n",
      "[CV] .................... C=2.5, gamma=0.1, score=0.760, total=   0.5s\n",
      "[CV] C=2.5, gamma=0.1 ................................................\n",
      "[CV] .................... C=2.5, gamma=0.1, score=0.753, total=   0.5s\n",
      "[CV] C=2.5, gamma=0.1 ................................................\n",
      "[CV] .................... C=2.5, gamma=0.1, score=0.749, total=   0.4s\n",
      "[CV] C=2.5, gamma=0.1 ................................................\n",
      "[CV] .................... C=2.5, gamma=0.1, score=0.772, total=   0.4s\n",
      "[CV] C=2.5, gamma=0.1 ................................................\n",
      "[CV] .................... C=2.5, gamma=0.1, score=0.700, total=   0.4s\n",
      "[CV] C=2.5, gamma=1 ..................................................\n",
      "[CV] ...................... C=2.5, gamma=1, score=0.659, total=   0.5s\n",
      "[CV] C=2.5, gamma=1 ..................................................\n",
      "[CV] ...................... C=2.5, gamma=1, score=0.663, total=   0.4s\n",
      "[CV] C=2.5, gamma=1 ..................................................\n",
      "[CV] ...................... C=2.5, gamma=1, score=0.652, total=   0.4s\n",
      "[CV] C=2.5, gamma=1 ..................................................\n",
      "[CV] ...................... C=2.5, gamma=1, score=0.670, total=   0.4s\n",
      "[CV] C=2.5, gamma=1 ..................................................\n",
      "[CV] ...................... C=2.5, gamma=1, score=0.644, total=   0.4s\n",
      "[CV] C=2.5, gamma=1 ..................................................\n",
      "[CV] ...................... C=2.5, gamma=1, score=0.678, total=   0.4s\n",
      "[CV] C=2.5, gamma=1 ..................................................\n",
      "[CV] ...................... C=2.5, gamma=1, score=0.648, total=   0.4s\n",
      "[CV] C=2.5, gamma=1 ..................................................\n",
      "[CV] ...................... C=2.5, gamma=1, score=0.648, total=   0.4s\n",
      "[CV] C=2.5, gamma=1 ..................................................\n",
      "[CV] ...................... C=2.5, gamma=1, score=0.689, total=   0.4s\n",
      "[CV] C=2.5, gamma=1 ..................................................\n",
      "[CV] ...................... C=2.5, gamma=1, score=0.652, total=   0.3s\n",
      "[CV] C=3, gamma=0.0001 ...............................................\n",
      "[CV] ................... C=3, gamma=0.0001, score=0.704, total=   0.2s\n",
      "[CV] C=3, gamma=0.0001 ...............................................\n"
     ]
    },
    {
     "name": "stdout",
     "output_type": "stream",
     "text": [
      "[CV] ................... C=3, gamma=0.0001, score=0.652, total=   0.1s\n",
      "[CV] C=3, gamma=0.0001 ...............................................\n",
      "[CV] ................... C=3, gamma=0.0001, score=0.704, total=   0.1s\n",
      "[CV] C=3, gamma=0.0001 ...............................................\n",
      "[CV] ................... C=3, gamma=0.0001, score=0.685, total=   0.2s\n",
      "[CV] C=3, gamma=0.0001 ...............................................\n",
      "[CV] ................... C=3, gamma=0.0001, score=0.670, total=   0.1s\n",
      "[CV] C=3, gamma=0.0001 ...............................................\n",
      "[CV] ................... C=3, gamma=0.0001, score=0.659, total=   0.1s\n",
      "[CV] C=3, gamma=0.0001 ...............................................\n",
      "[CV] ................... C=3, gamma=0.0001, score=0.674, total=   0.2s\n",
      "[CV] C=3, gamma=0.0001 ...............................................\n",
      "[CV] ................... C=3, gamma=0.0001, score=0.678, total=   0.1s\n",
      "[CV] C=3, gamma=0.0001 ...............................................\n",
      "[CV] ................... C=3, gamma=0.0001, score=0.689, total=   0.1s\n",
      "[CV] C=3, gamma=0.0001 ...............................................\n",
      "[CV] ................... C=3, gamma=0.0001, score=0.674, total=   0.1s\n",
      "[CV] C=3, gamma=0.001 ................................................\n",
      "[CV] .................... C=3, gamma=0.001, score=0.760, total=   0.1s\n",
      "[CV] C=3, gamma=0.001 ................................................\n",
      "[CV] .................... C=3, gamma=0.001, score=0.753, total=   0.1s\n",
      "[CV] C=3, gamma=0.001 ................................................\n",
      "[CV] .................... C=3, gamma=0.001, score=0.764, total=   0.1s\n",
      "[CV] C=3, gamma=0.001 ................................................\n",
      "[CV] .................... C=3, gamma=0.001, score=0.727, total=   0.1s\n",
      "[CV] C=3, gamma=0.001 ................................................\n",
      "[CV] .................... C=3, gamma=0.001, score=0.689, total=   0.1s\n",
      "[CV] C=3, gamma=0.001 ................................................\n",
      "[CV] .................... C=3, gamma=0.001, score=0.723, total=   0.1s\n",
      "[CV] C=3, gamma=0.001 ................................................\n",
      "[CV] .................... C=3, gamma=0.001, score=0.753, total=   0.1s\n",
      "[CV] C=3, gamma=0.001 ................................................\n",
      "[CV] .................... C=3, gamma=0.001, score=0.712, total=   0.1s\n",
      "[CV] C=3, gamma=0.001 ................................................\n",
      "[CV] .................... C=3, gamma=0.001, score=0.745, total=   0.1s\n",
      "[CV] C=3, gamma=0.001 ................................................\n",
      "[CV] .................... C=3, gamma=0.001, score=0.772, total=   0.1s\n",
      "[CV] C=3, gamma=0.01 .................................................\n",
      "[CV] ..................... C=3, gamma=0.01, score=0.772, total=   0.1s\n",
      "[CV] C=3, gamma=0.01 .................................................\n",
      "[CV] ..................... C=3, gamma=0.01, score=0.749, total=   0.2s\n",
      "[CV] C=3, gamma=0.01 .................................................\n",
      "[CV] ..................... C=3, gamma=0.01, score=0.790, total=   0.1s\n",
      "[CV] C=3, gamma=0.01 .................................................\n",
      "[CV] ..................... C=3, gamma=0.01, score=0.801, total=   0.2s\n",
      "[CV] C=3, gamma=0.01 .................................................\n",
      "[CV] ..................... C=3, gamma=0.01, score=0.768, total=   0.4s\n",
      "[CV] C=3, gamma=0.01 .................................................\n",
      "[CV] ..................... C=3, gamma=0.01, score=0.809, total=   0.3s\n",
      "[CV] C=3, gamma=0.01 .................................................\n",
      "[CV] ..................... C=3, gamma=0.01, score=0.783, total=   0.3s\n",
      "[CV] C=3, gamma=0.01 .................................................\n",
      "[CV] ..................... C=3, gamma=0.01, score=0.764, total=   0.3s\n",
      "[CV] C=3, gamma=0.01 .................................................\n",
      "[CV] ..................... C=3, gamma=0.01, score=0.779, total=   0.3s\n",
      "[CV] C=3, gamma=0.01 .................................................\n",
      "[CV] ..................... C=3, gamma=0.01, score=0.775, total=   0.3s\n",
      "[CV] C=3, gamma=0.1 ..................................................\n",
      "[CV] ...................... C=3, gamma=0.1, score=0.768, total=   0.5s\n",
      "[CV] C=3, gamma=0.1 ..................................................\n",
      "[CV] ...................... C=3, gamma=0.1, score=0.730, total=   0.4s\n",
      "[CV] C=3, gamma=0.1 ..................................................\n",
      "[CV] ...................... C=3, gamma=0.1, score=0.738, total=   0.6s\n",
      "[CV] C=3, gamma=0.1 ..................................................\n",
      "[CV] ...................... C=3, gamma=0.1, score=0.753, total=   0.6s\n",
      "[CV] C=3, gamma=0.1 ..................................................\n",
      "[CV] ...................... C=3, gamma=0.1, score=0.723, total=   0.5s\n",
      "[CV] C=3, gamma=0.1 ..................................................\n",
      "[CV] ...................... C=3, gamma=0.1, score=0.764, total=   0.5s\n",
      "[CV] C=3, gamma=0.1 ..................................................\n",
      "[CV] ...................... C=3, gamma=0.1, score=0.734, total=   0.5s\n",
      "[CV] C=3, gamma=0.1 ..................................................\n",
      "[CV] ...................... C=3, gamma=0.1, score=0.749, total=   0.5s\n",
      "[CV] C=3, gamma=0.1 ..................................................\n",
      "[CV] ...................... C=3, gamma=0.1, score=0.768, total=   0.6s\n",
      "[CV] C=3, gamma=0.1 ..................................................\n",
      "[CV] ...................... C=3, gamma=0.1, score=0.693, total=   0.6s\n",
      "[CV] C=3, gamma=1 ....................................................\n",
      "[CV] ........................ C=3, gamma=1, score=0.659, total=   0.7s\n",
      "[CV] C=3, gamma=1 ....................................................\n",
      "[CV] ........................ C=3, gamma=1, score=0.663, total=   0.6s\n",
      "[CV] C=3, gamma=1 ....................................................\n",
      "[CV] ........................ C=3, gamma=1, score=0.652, total=   0.5s\n",
      "[CV] C=3, gamma=1 ....................................................\n",
      "[CV] ........................ C=3, gamma=1, score=0.670, total=   0.5s\n",
      "[CV] C=3, gamma=1 ....................................................\n",
      "[CV] ........................ C=3, gamma=1, score=0.644, total=   0.4s\n",
      "[CV] C=3, gamma=1 ....................................................\n",
      "[CV] ........................ C=3, gamma=1, score=0.678, total=   0.4s\n",
      "[CV] C=3, gamma=1 ....................................................\n",
      "[CV] ........................ C=3, gamma=1, score=0.648, total=   0.7s\n",
      "[CV] C=3, gamma=1 ....................................................\n",
      "[CV] ........................ C=3, gamma=1, score=0.648, total=   0.7s\n",
      "[CV] C=3, gamma=1 ....................................................\n",
      "[CV] ........................ C=3, gamma=1, score=0.689, total=   0.7s\n",
      "[CV] C=3, gamma=1 ....................................................\n",
      "[CV] ........................ C=3, gamma=1, score=0.652, total=   0.7s\n",
      "[CV] C=4, gamma=0.0001 ...............................................\n",
      "[CV] ................... C=4, gamma=0.0001, score=0.708, total=   0.3s\n",
      "[CV] C=4, gamma=0.0001 ...............................................\n",
      "[CV] ................... C=4, gamma=0.0001, score=0.659, total=   0.3s\n",
      "[CV] C=4, gamma=0.0001 ...............................................\n",
      "[CV] ................... C=4, gamma=0.0001, score=0.708, total=   0.2s\n",
      "[CV] C=4, gamma=0.0001 ...............................................\n",
      "[CV] ................... C=4, gamma=0.0001, score=0.689, total=   0.3s\n",
      "[CV] C=4, gamma=0.0001 ...............................................\n",
      "[CV] ................... C=4, gamma=0.0001, score=0.659, total=   0.2s\n",
      "[CV] C=4, gamma=0.0001 ...............................................\n",
      "[CV] ................... C=4, gamma=0.0001, score=0.674, total=   0.2s\n",
      "[CV] C=4, gamma=0.0001 ...............................................\n",
      "[CV] ................... C=4, gamma=0.0001, score=0.678, total=   0.2s\n",
      "[CV] C=4, gamma=0.0001 ...............................................\n",
      "[CV] ................... C=4, gamma=0.0001, score=0.689, total=   0.2s\n",
      "[CV] C=4, gamma=0.0001 ...............................................\n",
      "[CV] ................... C=4, gamma=0.0001, score=0.700, total=   0.3s\n",
      "[CV] C=4, gamma=0.0001 ...............................................\n"
     ]
    },
    {
     "name": "stdout",
     "output_type": "stream",
     "text": [
      "[CV] ................... C=4, gamma=0.0001, score=0.678, total=   0.2s\n",
      "[CV] C=4, gamma=0.001 ................................................\n",
      "[CV] .................... C=4, gamma=0.001, score=0.798, total=   0.2s\n",
      "[CV] C=4, gamma=0.001 ................................................\n",
      "[CV] .................... C=4, gamma=0.001, score=0.749, total=   0.2s\n",
      "[CV] C=4, gamma=0.001 ................................................\n",
      "[CV] .................... C=4, gamma=0.001, score=0.775, total=   0.3s\n",
      "[CV] C=4, gamma=0.001 ................................................\n",
      "[CV] .................... C=4, gamma=0.001, score=0.779, total=   0.3s\n",
      "[CV] C=4, gamma=0.001 ................................................\n",
      "[CV] .................... C=4, gamma=0.001, score=0.723, total=   0.2s\n",
      "[CV] C=4, gamma=0.001 ................................................\n",
      "[CV] .................... C=4, gamma=0.001, score=0.764, total=   0.2s\n",
      "[CV] C=4, gamma=0.001 ................................................\n",
      "[CV] .................... C=4, gamma=0.001, score=0.798, total=   0.2s\n",
      "[CV] C=4, gamma=0.001 ................................................\n",
      "[CV] .................... C=4, gamma=0.001, score=0.768, total=   0.2s\n",
      "[CV] C=4, gamma=0.001 ................................................\n",
      "[CV] .................... C=4, gamma=0.001, score=0.809, total=   0.2s\n",
      "[CV] C=4, gamma=0.001 ................................................\n",
      "[CV] .................... C=4, gamma=0.001, score=0.772, total=   0.2s\n",
      "[CV] C=4, gamma=0.01 .................................................\n",
      "[CV] ..................... C=4, gamma=0.01, score=0.794, total=   0.2s\n",
      "[CV] C=4, gamma=0.01 .................................................\n",
      "[CV] ..................... C=4, gamma=0.01, score=0.757, total=   0.2s\n",
      "[CV] C=4, gamma=0.01 .................................................\n",
      "[CV] ..................... C=4, gamma=0.01, score=0.790, total=   0.2s\n",
      "[CV] C=4, gamma=0.01 .................................................\n",
      "[CV] ..................... C=4, gamma=0.01, score=0.816, total=   0.2s\n",
      "[CV] C=4, gamma=0.01 .................................................\n",
      "[CV] ..................... C=4, gamma=0.01, score=0.779, total=   0.2s\n",
      "[CV] C=4, gamma=0.01 .................................................\n",
      "[CV] ..................... C=4, gamma=0.01, score=0.816, total=   0.2s\n",
      "[CV] C=4, gamma=0.01 .................................................\n",
      "[CV] ..................... C=4, gamma=0.01, score=0.787, total=   0.2s\n",
      "[CV] C=4, gamma=0.01 .................................................\n",
      "[CV] ..................... C=4, gamma=0.01, score=0.775, total=   0.2s\n",
      "[CV] C=4, gamma=0.01 .................................................\n",
      "[CV] ..................... C=4, gamma=0.01, score=0.783, total=   0.2s\n",
      "[CV] C=4, gamma=0.01 .................................................\n",
      "[CV] ..................... C=4, gamma=0.01, score=0.772, total=   0.2s\n",
      "[CV] C=4, gamma=0.1 ..................................................\n",
      "[CV] ...................... C=4, gamma=0.1, score=0.768, total=   0.3s\n",
      "[CV] C=4, gamma=0.1 ..................................................\n",
      "[CV] ...................... C=4, gamma=0.1, score=0.715, total=   0.4s\n",
      "[CV] C=4, gamma=0.1 ..................................................\n",
      "[CV] ...................... C=4, gamma=0.1, score=0.738, total=   0.6s\n",
      "[CV] C=4, gamma=0.1 ..................................................\n",
      "[CV] ...................... C=4, gamma=0.1, score=0.745, total=   0.5s\n",
      "[CV] C=4, gamma=0.1 ..................................................\n",
      "[CV] ...................... C=4, gamma=0.1, score=0.727, total=   0.5s\n",
      "[CV] C=4, gamma=0.1 ..................................................\n",
      "[CV] ...................... C=4, gamma=0.1, score=0.760, total=   0.5s\n",
      "[CV] C=4, gamma=0.1 ..................................................\n",
      "[CV] ...................... C=4, gamma=0.1, score=0.723, total=   0.4s\n",
      "[CV] C=4, gamma=0.1 ..................................................\n",
      "[CV] ...................... C=4, gamma=0.1, score=0.749, total=   0.4s\n",
      "[CV] C=4, gamma=0.1 ..................................................\n",
      "[CV] ...................... C=4, gamma=0.1, score=0.764, total=   0.4s\n",
      "[CV] C=4, gamma=0.1 ..................................................\n",
      "[CV] ...................... C=4, gamma=0.1, score=0.693, total=   0.4s\n",
      "[CV] C=4, gamma=1 ....................................................\n",
      "[CV] ........................ C=4, gamma=1, score=0.659, total=   0.4s\n",
      "[CV] C=4, gamma=1 ....................................................\n",
      "[CV] ........................ C=4, gamma=1, score=0.663, total=   0.4s\n",
      "[CV] C=4, gamma=1 ....................................................\n",
      "[CV] ........................ C=4, gamma=1, score=0.652, total=   0.4s\n",
      "[CV] C=4, gamma=1 ....................................................\n",
      "[CV] ........................ C=4, gamma=1, score=0.670, total=   0.7s\n",
      "[CV] C=4, gamma=1 ....................................................\n",
      "[CV] ........................ C=4, gamma=1, score=0.644, total=   0.7s\n",
      "[CV] C=4, gamma=1 ....................................................\n",
      "[CV] ........................ C=4, gamma=1, score=0.678, total=   0.7s\n",
      "[CV] C=4, gamma=1 ....................................................\n",
      "[CV] ........................ C=4, gamma=1, score=0.648, total=   0.7s\n",
      "[CV] C=4, gamma=1 ....................................................\n",
      "[CV] ........................ C=4, gamma=1, score=0.648, total=   0.6s\n",
      "[CV] C=4, gamma=1 ....................................................\n",
      "[CV] ........................ C=4, gamma=1, score=0.689, total=   0.6s\n",
      "[CV] C=4, gamma=1 ....................................................\n",
      "[CV] ........................ C=4, gamma=1, score=0.652, total=   0.5s\n",
      "[CV] C=5, gamma=0.0001 ...............................................\n",
      "[CV] ................... C=5, gamma=0.0001, score=0.704, total=   0.2s\n",
      "[CV] C=5, gamma=0.0001 ...............................................\n",
      "[CV] ................... C=5, gamma=0.0001, score=0.663, total=   0.2s\n",
      "[CV] C=5, gamma=0.0001 ...............................................\n",
      "[CV] ................... C=5, gamma=0.0001, score=0.712, total=   0.2s\n",
      "[CV] C=5, gamma=0.0001 ...............................................\n",
      "[CV] ................... C=5, gamma=0.0001, score=0.697, total=   0.2s\n",
      "[CV] C=5, gamma=0.0001 ...............................................\n",
      "[CV] ................... C=5, gamma=0.0001, score=0.652, total=   0.2s\n",
      "[CV] C=5, gamma=0.0001 ...............................................\n",
      "[CV] ................... C=5, gamma=0.0001, score=0.674, total=   0.2s\n",
      "[CV] C=5, gamma=0.0001 ...............................................\n",
      "[CV] ................... C=5, gamma=0.0001, score=0.682, total=   0.2s\n",
      "[CV] C=5, gamma=0.0001 ...............................................\n",
      "[CV] ................... C=5, gamma=0.0001, score=0.689, total=   0.2s\n",
      "[CV] C=5, gamma=0.0001 ...............................................\n",
      "[CV] ................... C=5, gamma=0.0001, score=0.704, total=   0.2s\n",
      "[CV] C=5, gamma=0.0001 ...............................................\n",
      "[CV] ................... C=5, gamma=0.0001, score=0.685, total=   0.2s\n",
      "[CV] C=5, gamma=0.001 ................................................\n",
      "[CV] .................... C=5, gamma=0.001, score=0.824, total=   0.2s\n",
      "[CV] C=5, gamma=0.001 ................................................\n",
      "[CV] .................... C=5, gamma=0.001, score=0.753, total=   0.2s\n",
      "[CV] C=5, gamma=0.001 ................................................\n",
      "[CV] .................... C=5, gamma=0.001, score=0.772, total=   0.2s\n",
      "[CV] C=5, gamma=0.001 ................................................\n",
      "[CV] .................... C=5, gamma=0.001, score=0.816, total=   0.2s\n",
      "[CV] C=5, gamma=0.001 ................................................\n",
      "[CV] .................... C=5, gamma=0.001, score=0.790, total=   0.2s\n",
      "[CV] C=5, gamma=0.001 ................................................\n",
      "[CV] .................... C=5, gamma=0.001, score=0.794, total=   0.2s\n",
      "[CV] C=5, gamma=0.001 ................................................\n",
      "[CV] .................... C=5, gamma=0.001, score=0.801, total=   0.2s\n",
      "[CV] C=5, gamma=0.001 ................................................\n",
      "[CV] .................... C=5, gamma=0.001, score=0.783, total=   0.2s\n",
      "[CV] C=5, gamma=0.001 ................................................\n"
     ]
    },
    {
     "name": "stdout",
     "output_type": "stream",
     "text": [
      "[CV] .................... C=5, gamma=0.001, score=0.813, total=   0.2s\n",
      "[CV] C=5, gamma=0.001 ................................................\n",
      "[CV] .................... C=5, gamma=0.001, score=0.790, total=   0.2s\n",
      "[CV] C=5, gamma=0.01 .................................................\n",
      "[CV] ..................... C=5, gamma=0.01, score=0.798, total=   0.2s\n",
      "[CV] C=5, gamma=0.01 .................................................\n",
      "[CV] ..................... C=5, gamma=0.01, score=0.749, total=   0.2s\n",
      "[CV] C=5, gamma=0.01 .................................................\n",
      "[CV] ..................... C=5, gamma=0.01, score=0.783, total=   0.2s\n",
      "[CV] C=5, gamma=0.01 .................................................\n",
      "[CV] ..................... C=5, gamma=0.01, score=0.828, total=   0.2s\n",
      "[CV] C=5, gamma=0.01 .................................................\n",
      "[CV] ..................... C=5, gamma=0.01, score=0.783, total=   0.2s\n",
      "[CV] C=5, gamma=0.01 .................................................\n",
      "[CV] ..................... C=5, gamma=0.01, score=0.820, total=   0.2s\n",
      "[CV] C=5, gamma=0.01 .................................................\n",
      "[CV] ..................... C=5, gamma=0.01, score=0.790, total=   0.2s\n",
      "[CV] C=5, gamma=0.01 .................................................\n",
      "[CV] ..................... C=5, gamma=0.01, score=0.775, total=   0.2s\n",
      "[CV] C=5, gamma=0.01 .................................................\n",
      "[CV] ..................... C=5, gamma=0.01, score=0.779, total=   0.2s\n",
      "[CV] C=5, gamma=0.01 .................................................\n",
      "[CV] ..................... C=5, gamma=0.01, score=0.768, total=   0.2s\n",
      "[CV] C=5, gamma=0.1 ..................................................\n",
      "[CV] ...................... C=5, gamma=0.1, score=0.764, total=   0.6s\n",
      "[CV] C=5, gamma=0.1 ..................................................\n",
      "[CV] ...................... C=5, gamma=0.1, score=0.715, total=   0.7s\n",
      "[CV] C=5, gamma=0.1 ..................................................\n",
      "[CV] ...................... C=5, gamma=0.1, score=0.734, total=   0.6s\n",
      "[CV] C=5, gamma=0.1 ..................................................\n",
      "[CV] ...................... C=5, gamma=0.1, score=0.742, total=   0.5s\n",
      "[CV] C=5, gamma=0.1 ..................................................\n",
      "[CV] ...................... C=5, gamma=0.1, score=0.727, total=   0.6s\n",
      "[CV] C=5, gamma=0.1 ..................................................\n",
      "[CV] ...................... C=5, gamma=0.1, score=0.757, total=   0.6s\n",
      "[CV] C=5, gamma=0.1 ..................................................\n",
      "[CV] ...................... C=5, gamma=0.1, score=0.719, total=   0.6s\n",
      "[CV] C=5, gamma=0.1 ..................................................\n",
      "[CV] ...................... C=5, gamma=0.1, score=0.753, total=   0.5s\n",
      "[CV] C=5, gamma=0.1 ..................................................\n",
      "[CV] ...................... C=5, gamma=0.1, score=0.764, total=   0.7s\n",
      "[CV] C=5, gamma=0.1 ..................................................\n",
      "[CV] ...................... C=5, gamma=0.1, score=0.697, total=   0.6s\n",
      "[CV] C=5, gamma=1 ....................................................\n",
      "[CV] ........................ C=5, gamma=1, score=0.663, total=   0.7s\n",
      "[CV] C=5, gamma=1 ....................................................\n",
      "[CV] ........................ C=5, gamma=1, score=0.667, total=   0.6s\n",
      "[CV] C=5, gamma=1 ....................................................\n",
      "[CV] ........................ C=5, gamma=1, score=0.652, total=   0.6s\n",
      "[CV] C=5, gamma=1 ....................................................\n",
      "[CV] ........................ C=5, gamma=1, score=0.670, total=   0.5s\n",
      "[CV] C=5, gamma=1 ....................................................\n",
      "[CV] ........................ C=5, gamma=1, score=0.648, total=   0.6s\n",
      "[CV] C=5, gamma=1 ....................................................\n",
      "[CV] ........................ C=5, gamma=1, score=0.678, total=   0.7s\n",
      "[CV] C=5, gamma=1 ....................................................\n",
      "[CV] ........................ C=5, gamma=1, score=0.648, total=   0.8s\n",
      "[CV] C=5, gamma=1 ....................................................\n",
      "[CV] ........................ C=5, gamma=1, score=0.648, total=   0.8s\n",
      "[CV] C=5, gamma=1 ....................................................\n",
      "[CV] ........................ C=5, gamma=1, score=0.693, total=   0.7s\n",
      "[CV] C=5, gamma=1 ....................................................\n",
      "[CV] ........................ C=5, gamma=1, score=0.652, total=   0.6s\n",
      "[CV] C=10, gamma=0.0001 ..............................................\n",
      "[CV] .................. C=10, gamma=0.0001, score=0.708, total=   0.3s\n",
      "[CV] C=10, gamma=0.0001 ..............................................\n",
      "[CV] .................. C=10, gamma=0.0001, score=0.674, total=   0.3s\n",
      "[CV] C=10, gamma=0.0001 ..............................................\n",
      "[CV] .................. C=10, gamma=0.0001, score=0.738, total=   0.2s\n",
      "[CV] C=10, gamma=0.0001 ..............................................\n",
      "[CV] .................. C=10, gamma=0.0001, score=0.719, total=   0.2s\n",
      "[CV] C=10, gamma=0.0001 ..............................................\n",
      "[CV] .................. C=10, gamma=0.0001, score=0.655, total=   0.2s\n",
      "[CV] C=10, gamma=0.0001 ..............................................\n",
      "[CV] .................. C=10, gamma=0.0001, score=0.682, total=   0.2s\n",
      "[CV] C=10, gamma=0.0001 ..............................................\n",
      "[CV] .................. C=10, gamma=0.0001, score=0.712, total=   0.2s\n",
      "[CV] C=10, gamma=0.0001 ..............................................\n",
      "[CV] .................. C=10, gamma=0.0001, score=0.712, total=   0.2s\n",
      "[CV] C=10, gamma=0.0001 ..............................................\n",
      "[CV] .................. C=10, gamma=0.0001, score=0.715, total=   0.2s\n",
      "[CV] C=10, gamma=0.0001 ..............................................\n",
      "[CV] .................. C=10, gamma=0.0001, score=0.723, total=   0.2s\n",
      "[CV] C=10, gamma=0.001 ...............................................\n",
      "[CV] ................... C=10, gamma=0.001, score=0.831, total=   0.2s\n",
      "[CV] C=10, gamma=0.001 ...............................................\n",
      "[CV] ................... C=10, gamma=0.001, score=0.779, total=   0.2s\n",
      "[CV] C=10, gamma=0.001 ...............................................\n",
      "[CV] ................... C=10, gamma=0.001, score=0.794, total=   0.2s\n",
      "[CV] C=10, gamma=0.001 ...............................................\n",
      "[CV] ................... C=10, gamma=0.001, score=0.831, total=   0.2s\n",
      "[CV] C=10, gamma=0.001 ...............................................\n",
      "[CV] ................... C=10, gamma=0.001, score=0.813, total=   0.2s\n",
      "[CV] C=10, gamma=0.001 ...............................................\n",
      "[CV] ................... C=10, gamma=0.001, score=0.805, total=   0.2s\n",
      "[CV] C=10, gamma=0.001 ...............................................\n",
      "[CV] ................... C=10, gamma=0.001, score=0.805, total=   0.2s\n",
      "[CV] C=10, gamma=0.001 ...............................................\n",
      "[CV] ................... C=10, gamma=0.001, score=0.813, total=   0.2s\n",
      "[CV] C=10, gamma=0.001 ...............................................\n",
      "[CV] ................... C=10, gamma=0.001, score=0.828, total=   0.2s\n",
      "[CV] C=10, gamma=0.001 ...............................................\n",
      "[CV] ................... C=10, gamma=0.001, score=0.794, total=   0.2s\n",
      "[CV] C=10, gamma=0.01 ................................................\n",
      "[CV] .................... C=10, gamma=0.01, score=0.787, total=   0.3s\n",
      "[CV] C=10, gamma=0.01 ................................................\n",
      "[CV] .................... C=10, gamma=0.01, score=0.753, total=   0.3s\n",
      "[CV] C=10, gamma=0.01 ................................................\n",
      "[CV] .................... C=10, gamma=0.01, score=0.772, total=   0.3s\n",
      "[CV] C=10, gamma=0.01 ................................................\n",
      "[CV] .................... C=10, gamma=0.01, score=0.835, total=   0.2s\n",
      "[CV] C=10, gamma=0.01 ................................................\n",
      "[CV] .................... C=10, gamma=0.01, score=0.790, total=   0.3s\n",
      "[CV] C=10, gamma=0.01 ................................................\n",
      "[CV] .................... C=10, gamma=0.01, score=0.820, total=   0.2s\n",
      "[CV] C=10, gamma=0.01 ................................................\n"
     ]
    },
    {
     "name": "stdout",
     "output_type": "stream",
     "text": [
      "[CV] .................... C=10, gamma=0.01, score=0.798, total=   0.2s\n",
      "[CV] C=10, gamma=0.01 ................................................\n",
      "[CV] .................... C=10, gamma=0.01, score=0.764, total=   0.2s\n",
      "[CV] C=10, gamma=0.01 ................................................\n",
      "[CV] .................... C=10, gamma=0.01, score=0.787, total=   0.3s\n",
      "[CV] C=10, gamma=0.01 ................................................\n",
      "[CV] .................... C=10, gamma=0.01, score=0.779, total=   0.2s\n",
      "[CV] C=10, gamma=0.1 .................................................\n",
      "[CV] ..................... C=10, gamma=0.1, score=0.742, total=   0.4s\n",
      "[CV] C=10, gamma=0.1 .................................................\n",
      "[CV] ..................... C=10, gamma=0.1, score=0.697, total=   0.3s\n",
      "[CV] C=10, gamma=0.1 .................................................\n",
      "[CV] ..................... C=10, gamma=0.1, score=0.727, total=   0.3s\n",
      "[CV] C=10, gamma=0.1 .................................................\n",
      "[CV] ..................... C=10, gamma=0.1, score=0.745, total=   0.3s\n",
      "[CV] C=10, gamma=0.1 .................................................\n",
      "[CV] ..................... C=10, gamma=0.1, score=0.708, total=   0.3s\n",
      "[CV] C=10, gamma=0.1 .................................................\n",
      "[CV] ..................... C=10, gamma=0.1, score=0.730, total=   0.3s\n",
      "[CV] C=10, gamma=0.1 .................................................\n",
      "[CV] ..................... C=10, gamma=0.1, score=0.723, total=   0.4s\n",
      "[CV] C=10, gamma=0.1 .................................................\n",
      "[CV] ..................... C=10, gamma=0.1, score=0.753, total=   0.7s\n",
      "[CV] C=10, gamma=0.1 .................................................\n",
      "[CV] ..................... C=10, gamma=0.1, score=0.757, total=   0.7s\n",
      "[CV] C=10, gamma=0.1 .................................................\n",
      "[CV] ..................... C=10, gamma=0.1, score=0.693, total=   0.6s\n",
      "[CV] C=10, gamma=1 ...................................................\n",
      "[CV] ....................... C=10, gamma=1, score=0.663, total=   0.6s\n",
      "[CV] C=10, gamma=1 ...................................................\n",
      "[CV] ....................... C=10, gamma=1, score=0.663, total=   0.7s\n",
      "[CV] C=10, gamma=1 ...................................................\n",
      "[CV] ....................... C=10, gamma=1, score=0.648, total=   0.8s\n",
      "[CV] C=10, gamma=1 ...................................................\n",
      "[CV] ....................... C=10, gamma=1, score=0.663, total=   0.7s\n",
      "[CV] C=10, gamma=1 ...................................................\n",
      "[CV] ....................... C=10, gamma=1, score=0.637, total=   0.8s\n",
      "[CV] C=10, gamma=1 ...................................................\n",
      "[CV] ....................... C=10, gamma=1, score=0.678, total=   0.8s\n",
      "[CV] C=10, gamma=1 ...................................................\n",
      "[CV] ....................... C=10, gamma=1, score=0.644, total=   0.8s\n",
      "[CV] C=10, gamma=1 ...................................................\n",
      "[CV] ....................... C=10, gamma=1, score=0.648, total=   0.7s\n",
      "[CV] C=10, gamma=1 ...................................................\n",
      "[CV] ....................... C=10, gamma=1, score=0.693, total=   0.7s\n",
      "[CV] C=10, gamma=1 ...................................................\n",
      "[CV] ....................... C=10, gamma=1, score=0.652, total=   0.7s\n"
     ]
    },
    {
     "name": "stderr",
     "output_type": "stream",
     "text": [
      "[Parallel(n_jobs=1)]: Done 550 out of 550 | elapsed:  3.0min finished\n"
     ]
    },
    {
     "data": {
      "text/plain": [
       "GridSearchCV(cv=StratifiedShuffleSplit(n_splits=10, random_state=15, test_size=0.3,\n",
       "            train_size=None),\n",
       "             error_score=nan,\n",
       "             estimator=SVC(C=1.0, break_ties=False, cache_size=200,\n",
       "                           class_weight=None, coef0=0.0,\n",
       "                           decision_function_shape='ovr', degree=3,\n",
       "                           gamma='scale', kernel='rbf', max_iter=-1,\n",
       "                           probability=True, random_state=None, shrinking=True,\n",
       "                           tol=0.001, verbose=False),\n",
       "             iid='deprecated', n_jobs=None,\n",
       "             param_grid={'C': [0.001, 0.01, 0.1, 1, 1.5, 2, 2.5, 3, 4, 5, 10],\n",
       "                         'gamma': [0.0001, 0.001, 0.01, 0.1, 1]},\n",
       "             pre_dispatch='2*n_jobs', refit=True, return_train_score=False,\n",
       "             scoring=None, verbose=3)"
      ]
     },
     "execution_count": 226,
     "metadata": {},
     "output_type": "execute_result"
    }
   ],
   "source": [
    "cv = StratifiedShuffleSplit(n_splits=10, test_size=.30, random_state=15)\n",
    "grid_search = GridSearchCV(SVC(kernel = 'rbf', probability=True), param_grid, verbose=3, cv=cv) ## 'rbf' stands for gaussian kernel\n",
    "grid_search.fit(X,y)"
   ]
  },
  {
   "cell_type": "code",
   "execution_count": null,
   "metadata": {},
   "outputs": [],
   "source": [
    "#grid = GridSearchCV(SVC(),param_grid,verbose=3)"
   ]
  },
  {
   "cell_type": "code",
   "execution_count": 158,
   "metadata": {},
   "outputs": [],
   "source": [
    "#grid.fit(X,y)"
   ]
  },
  {
   "cell_type": "code",
   "execution_count": 227,
   "metadata": {},
   "outputs": [
    {
     "name": "stdout",
     "output_type": "stream",
     "text": [
      "0.8093632958801498\n",
      "{'C': 10, 'gamma': 0.001}\n",
      "SVC(C=10, break_ties=False, cache_size=200, class_weight=None, coef0=0.0,\n",
      "    decision_function_shape='ovr', degree=3, gamma=0.001, kernel='rbf',\n",
      "    max_iter=-1, probability=True, random_state=None, shrinking=True, tol=0.001,\n",
      "    verbose=False)\n"
     ]
    }
   ],
   "source": [
    "print(grid_search.best_score_)\n",
    "print(grid_search.best_params_)\n",
    "print(grid_search.best_estimator_)"
   ]
  },
  {
   "cell_type": "code",
   "execution_count": 228,
   "metadata": {},
   "outputs": [
    {
     "data": {
      "text/plain": [
       "0.8256467941507312"
      ]
     },
     "execution_count": 228,
     "metadata": {},
     "output_type": "execute_result"
    }
   ],
   "source": [
    "# using the best found hyper paremeters to get the score. \n",
    "svm_grid = grid_search.best_estimator_\n",
    "svm_grid.score(X,y)"
   ]
  },
  {
   "cell_type": "code",
   "execution_count": 229,
   "metadata": {},
   "outputs": [],
   "source": [
    "grid_predictions = grid.predict(X_test)"
   ]
  },
  {
   "cell_type": "code",
   "execution_count": 230,
   "metadata": {},
   "outputs": [
    {
     "name": "stdout",
     "output_type": "stream",
     "text": [
      "              precision    recall  f1-score   support\n",
      "\n",
      "           0       0.81      0.86      0.83       174\n",
      "           1       0.77      0.70      0.73       120\n",
      "\n",
      "    accuracy                           0.79       294\n",
      "   macro avg       0.79      0.78      0.78       294\n",
      "weighted avg       0.79      0.79      0.79       294\n",
      "\n"
     ]
    }
   ],
   "source": [
    "print(classification_report(y_test,grid_predictions))"
   ]
  },
  {
   "cell_type": "code",
   "execution_count": 231,
   "metadata": {},
   "outputs": [
    {
     "name": "stdout",
     "output_type": "stream",
     "text": [
      "[[149  25]\n",
      " [ 36  84]]\n"
     ]
    }
   ],
   "source": [
    "print(confusion_matrix(y_test,grid_predictions))"
   ]
  },
  {
   "cell_type": "code",
   "execution_count": 240,
   "metadata": {},
   "outputs": [],
   "source": [
    "kaggle_predictions = grid.predict(X_test_kaggle)"
   ]
  },
  {
   "cell_type": "code",
   "execution_count": 233,
   "metadata": {},
   "outputs": [],
   "source": [
    "df_test_for_passengerId = pd.read_csv('titanic_test.csv')"
   ]
  },
  {
   "cell_type": "code",
   "execution_count": 271,
   "metadata": {},
   "outputs": [
    {
     "data": {
      "text/plain": [
       "0       892\n",
       "1       893\n",
       "2       894\n",
       "3       895\n",
       "4       896\n",
       "       ... \n",
       "413    1305\n",
       "414    1306\n",
       "415    1307\n",
       "416    1308\n",
       "417    1309\n",
       "Name: PassengerId, Length: 418, dtype: int64"
      ]
     },
     "execution_count": 271,
     "metadata": {},
     "output_type": "execute_result"
    }
   ],
   "source": [
    "df_test_for_passengerId['PassengerId']"
   ]
  },
  {
   "cell_type": "code",
   "execution_count": null,
   "metadata": {},
   "outputs": [],
   "source": [
    "kaggle_predictions = grid.predict(X_test_kaggle)"
   ]
  },
  {
   "cell_type": "code",
   "execution_count": 322,
   "metadata": {},
   "outputs": [],
   "source": [
    "df_kaggle_predictions = pd.DataFrame(kaggle_predictions)"
   ]
  },
  {
   "cell_type": "code",
   "execution_count": 237,
   "metadata": {},
   "outputs": [],
   "source": [
    "df_kaggle_predictions.insert(0,column='PassengerId', value=df_test_for_passengerId['PassengerId'].values)"
   ]
  },
  {
   "cell_type": "code",
   "execution_count": 238,
   "metadata": {},
   "outputs": [],
   "source": [
    "df_kaggle_predictions.rename(columns = {0:'Survived'}, inplace = True)"
   ]
  },
  {
   "cell_type": "code",
   "execution_count": 239,
   "metadata": {},
   "outputs": [
    {
     "data": {
      "text/html": [
       "<div>\n",
       "<style scoped>\n",
       "    .dataframe tbody tr th:only-of-type {\n",
       "        vertical-align: middle;\n",
       "    }\n",
       "\n",
       "    .dataframe tbody tr th {\n",
       "        vertical-align: top;\n",
       "    }\n",
       "\n",
       "    .dataframe thead th {\n",
       "        text-align: right;\n",
       "    }\n",
       "</style>\n",
       "<table border=\"1\" class=\"dataframe\">\n",
       "  <thead>\n",
       "    <tr style=\"text-align: right;\">\n",
       "      <th></th>\n",
       "      <th>PassengerId</th>\n",
       "      <th>Survived</th>\n",
       "    </tr>\n",
       "  </thead>\n",
       "  <tbody>\n",
       "    <tr>\n",
       "      <th>0</th>\n",
       "      <td>892</td>\n",
       "      <td>0</td>\n",
       "    </tr>\n",
       "    <tr>\n",
       "      <th>1</th>\n",
       "      <td>893</td>\n",
       "      <td>1</td>\n",
       "    </tr>\n",
       "  </tbody>\n",
       "</table>\n",
       "</div>"
      ],
      "text/plain": [
       "   PassengerId  Survived\n",
       "0          892         0\n",
       "1          893         1"
      ]
     },
     "execution_count": 239,
     "metadata": {},
     "output_type": "execute_result"
    }
   ],
   "source": [
    "df_kaggle_predictions.to_csv('Titanic_Predictions_SVM_MRG')\n",
    "df_kaggle_predictions.head(2)"
   ]
  },
  {
   "cell_type": "code",
   "execution_count": 554,
   "metadata": {},
   "outputs": [],
   "source": []
  },
  {
   "cell_type": "code",
   "execution_count": null,
   "metadata": {},
   "outputs": [],
   "source": []
  },
  {
   "cell_type": "markdown",
   "metadata": {},
   "source": []
  },
  {
   "cell_type": "code",
   "execution_count": null,
   "metadata": {},
   "outputs": [],
   "source": []
  }
 ],
 "metadata": {
  "kernelspec": {
   "display_name": "Python 3",
   "language": "python",
   "name": "python3"
  },
  "language_info": {
   "codemirror_mode": {
    "name": "ipython",
    "version": 3
   },
   "file_extension": ".py",
   "mimetype": "text/x-python",
   "name": "python",
   "nbconvert_exporter": "python",
   "pygments_lexer": "ipython3",
   "version": "3.7.6"
  }
 },
 "nbformat": 4,
 "nbformat_minor": 4
}
